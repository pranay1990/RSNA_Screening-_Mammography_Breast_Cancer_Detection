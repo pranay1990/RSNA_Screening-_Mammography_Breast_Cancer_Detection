{
 "cells": [
  {
   "cell_type": "markdown",
   "id": "addc8228",
   "metadata": {
    "papermill": {
     "duration": 0.009036,
     "end_time": "2023-01-18T06:31:43.974098",
     "exception": false,
     "start_time": "2023-01-18T06:31:43.965062",
     "status": "completed"
    },
    "tags": []
   },
   "source": [
    "# [RSNA Screening Mammography Breast Cancer Detection](https://www.kaggle.com/c/petfinder-pawpularity-score)\n",
    "> Find breast cancers in screening mammograms\n",
    "\n",
    "![](https://storage.googleapis.com/kaggle-competitions/kaggle/39272/logos/header.png?t=2022-11-28-17-29-35)"
   ]
  },
  {
   "cell_type": "markdown",
   "id": "2f317993",
   "metadata": {
    "papermill": {
     "duration": 0.00791,
     "end_time": "2023-01-18T06:31:43.990079",
     "exception": false,
     "start_time": "2023-01-18T06:31:43.982169",
     "status": "completed"
    },
    "tags": []
   },
   "source": [
    "# Idea:\n",
    "* In this notebook will do inference for `breast cancer` detection from Mammography images.\n",
    "* Dicom images are saved to `1024` dim with aspect ratio. Modify `resize_dim` and `aspect_ratio` in config file to change them.\n",
    "* Batch Size is chosen adaptly depending on the image_size, you can change it on the `inference` cell\n",
    "* You can play with notebook by simply changing `tta` and `thr` parameter in config."
   ]
  },
  {
   "cell_type": "markdown",
   "id": "d430115b",
   "metadata": {
    "papermill": {
     "duration": 0.007797,
     "end_time": "2023-01-18T06:31:44.005838",
     "exception": false,
     "start_time": "2023-01-18T06:31:43.998041",
     "status": "completed"
    },
    "tags": []
   },
   "source": [
    "# Notebooks\n",
    "* Only Image:\n",
    "    * ROI:\n",
    "        * train: [RSNA-BCD: EfficientNet [TF][TPU-1VM][Train]](https://www.kaggle.com/code/awsaf49/rsna-bcd-efficientnet-tf-tpu-1vm-train)\n",
    "        * infer: [RSNA-BCD: EfficientNet [TF][TPU-1VM][Infer]](https://www.kaggle.com/code/awsaf49/rsna-bcd-efficientnet-tf-tpu-1vm-infer)\n",
    "    * NoROI + KerasCV: \n",
    "        * train: [RSNA-BCD: NoROI KerasCV [TF][Train]](https://www.kaggle.com/awsaf49/rsna-bcd-noroi-kerascv-tf-train/)\n",
    "        * infer: [RSNA-BCD: NoROI KerasCV [TF][Infer]](https://www.kaggle.com/awsaf49/rsna-bcd-noroi-kerascv-tf-infer/)\n",
    "* Dataset:\n",
    "    * ROI:\n",
    "        * [RSNA-BCD: ROI 1024x PNG Dataset](https://www.kaggle.com/datasets/awsaf49/rsna-bcd-roi-1024x-png-dataset)\n",
    "    * NoROI:\n",
    "        * [RSNA-BCD: 512 PNG v2 PNG Dataset](https://www.kaggle.com/datasets/awsaf49/rsnabcd-512-png-v2-dataset)"
   ]
  },
  {
   "cell_type": "markdown",
   "id": "c33d73ab",
   "metadata": {
    "papermill": {
     "duration": 0.007707,
     "end_time": "2023-01-18T06:31:44.023007",
     "exception": false,
     "start_time": "2023-01-18T06:31:44.015300",
     "status": "completed"
    },
    "tags": []
   },
   "source": [
    "# Update:\n",
    "* `v9` - `09/12/2022`:\n",
    "    * train_notebook: `v10` | img_size: 1024x512 | thr=0.60 | folds=0,1\n",
    "* `v10` - `10/12/2022`:\n",
    "    * same as `v9` uses **3folds** + **flip-model**\n",
    "* `v15` - `11/12/2022`:\n",
    "    * v2-fix data used\n",
    "* `v16` - `11/12/2022`:\n",
    "    * low lr\n",
    "* `v17` - `13/12/2022`:\n",
    "    * high res - 2048 x 1024 , single fold"
   ]
  },
  {
   "cell_type": "markdown",
   "id": "2f00fdd6",
   "metadata": {
    "papermill": {
     "duration": 0.014371,
     "end_time": "2023-01-18T06:31:44.045242",
     "exception": false,
     "start_time": "2023-01-18T06:31:44.030871",
     "status": "completed"
    },
    "tags": []
   },
   "source": [
    "# Install Libraries"
   ]
  },
  {
   "cell_type": "code",
   "execution_count": 1,
   "id": "3596c3f7",
   "metadata": {
    "_kg_hide-input": false,
    "_kg_hide-output": true,
    "execution": {
     "iopub.execute_input": "2023-01-18T06:31:44.080496Z",
     "iopub.status.busy": "2023-01-18T06:31:44.079918Z",
     "iopub.status.idle": "2023-01-18T06:33:48.391944Z",
     "shell.execute_reply": "2023-01-18T06:33:48.390712Z"
    },
    "papermill": {
     "duration": 124.333429,
     "end_time": "2023-01-18T06:33:48.394600",
     "exception": false,
     "start_time": "2023-01-18T06:31:44.061171",
     "status": "completed"
    },
    "tags": []
   },
   "outputs": [
    {
     "name": "stdout",
     "output_type": "stream",
     "text": [
      "\u001b[33mWARNING: Running pip as the 'root' user can result in broken permissions and conflicting behaviour with the system package manager. It is recommended to use a virtual environment instead: https://pip.pypa.io/warnings/venv\u001b[0m\u001b[33m\r\n",
      "\u001b[0m\u001b[33mWARNING: There was an error checking the latest version of pip.\u001b[0m\u001b[33m\r\n",
      "\u001b[0m\u001b[33mWARNING: Running pip as the 'root' user can result in broken permissions and conflicting behaviour with the system package manager. It is recommended to use a virtual environment instead: https://pip.pypa.io/warnings/venv\u001b[0m\u001b[33m\r\n",
      "\u001b[0m\u001b[33mWARNING: There was an error checking the latest version of pip.\u001b[0m\u001b[33m\r\n",
      "\u001b[0m\u001b[33mWARNING: Running pip as the 'root' user can result in broken permissions and conflicting behaviour with the system package manager. It is recommended to use a virtual environment instead: https://pip.pypa.io/warnings/venv\u001b[0m\u001b[33m\r\n",
      "\u001b[0m\u001b[33mWARNING: There was an error checking the latest version of pip.\u001b[0m\u001b[33m\r\n",
      "\u001b[0m\u001b[33mWARNING: Running pip as the 'root' user can result in broken permissions and conflicting behaviour with the system package manager. It is recommended to use a virtual environment instead: https://pip.pypa.io/warnings/venv\u001b[0m\u001b[33m\r\n",
      "\u001b[0m\u001b[33mWARNING: There was an error checking the latest version of pip.\u001b[0m\u001b[33m\r\n",
      "\u001b[0m"
     ]
    }
   ],
   "source": [
    "!pip install -q /kaggle/input/rsna-bcd-whl-ds/python_gdcm-3.0.20-cp37-cp37m-manylinux_2_17_x86_64.manylinux2014_x86_64.whl\n",
    "!pip install -q /kaggle/input/rsna-bcd-whl-ds/pylibjpeg-1.4.0-py3-none-any.whl\n",
    "!pip install -q /kaggle/input/rsna-bcd-whl-ds/dicomsdl-0.109.1-cp37-cp37m-manylinux_2_12_x86_64.manylinux2010_x86_64.whl\n",
    "!cp -r /kaggle/input/efficientnet-keras-dataset/efficientnet_kaggle /tmp/ && pip install -q /tmp/efficientnet_kaggle"
   ]
  },
  {
   "cell_type": "markdown",
   "id": "11982ddd",
   "metadata": {
    "papermill": {
     "duration": 0.008319,
     "end_time": "2023-01-18T06:33:48.411750",
     "exception": false,
     "start_time": "2023-01-18T06:33:48.403431",
     "status": "completed"
    },
    "tags": []
   },
   "source": [
    "# Import Libraries"
   ]
  },
  {
   "cell_type": "code",
   "execution_count": 2,
   "id": "c1212c8e",
   "metadata": {
    "execution": {
     "iopub.execute_input": "2023-01-18T06:33:48.431115Z",
     "iopub.status.busy": "2023-01-18T06:33:48.430103Z",
     "iopub.status.idle": "2023-01-18T06:33:54.867832Z",
     "shell.execute_reply": "2023-01-18T06:33:54.866833Z"
    },
    "papermill": {
     "duration": 6.450176,
     "end_time": "2023-01-18T06:33:54.870351",
     "exception": false,
     "start_time": "2023-01-18T06:33:48.420175",
     "status": "completed"
    },
    "tags": []
   },
   "outputs": [],
   "source": [
    "import os\n",
    "os.environ['TF_CPP_MIN_LOG_LEVEL'] = '3'  # to avoid too many logging messages\n",
    "import pandas as pd, numpy as np, random, shutil\n",
    "import tensorflow as tf, re, math\n",
    "import tensorflow.keras.backend as K\n",
    "import efficientnet.tfkeras as efn\n",
    "import sklearn\n",
    "import matplotlib.pyplot as plt\n",
    "import tensorflow_addons as tfa\n",
    "import yaml\n",
    "\n",
    "from IPython import display as ipd\n",
    "from glob import glob\n",
    "from tqdm import tqdm"
   ]
  },
  {
   "cell_type": "markdown",
   "id": "5342e5e9",
   "metadata": {
    "papermill": {
     "duration": 0.008325,
     "end_time": "2023-01-18T06:33:54.887234",
     "exception": false,
     "start_time": "2023-01-18T06:33:54.878909",
     "status": "completed"
    },
    "tags": []
   },
   "source": [
    "# Version Check"
   ]
  },
  {
   "cell_type": "code",
   "execution_count": 3,
   "id": "55aa5158",
   "metadata": {
    "execution": {
     "iopub.execute_input": "2023-01-18T06:33:54.905589Z",
     "iopub.status.busy": "2023-01-18T06:33:54.905005Z",
     "iopub.status.idle": "2023-01-18T06:33:54.912187Z",
     "shell.execute_reply": "2023-01-18T06:33:54.911011Z"
    },
    "papermill": {
     "duration": 0.018693,
     "end_time": "2023-01-18T06:33:54.914198",
     "exception": false,
     "start_time": "2023-01-18T06:33:54.895505",
     "status": "completed"
    },
    "tags": []
   },
   "outputs": [
    {
     "name": "stdout",
     "output_type": "stream",
     "text": [
      "np: 1.21.6\n",
      "pd: 1.3.5\n",
      "sklearn: 1.0.2\n",
      "tf: 2.6.4\n",
      "tfa: 0.14.0\n"
     ]
    }
   ],
   "source": [
    "print('np:', np.__version__)\n",
    "print('pd:', pd.__version__)\n",
    "print('sklearn:', sklearn.__version__)\n",
    "print('tf:',tf.__version__)\n",
    "print('tfa:', tfa.__version__)"
   ]
  },
  {
   "cell_type": "markdown",
   "id": "d54847ce",
   "metadata": {
    "papermill": {
     "duration": 0.008111,
     "end_time": "2023-01-18T06:33:54.930680",
     "exception": false,
     "start_time": "2023-01-18T06:33:54.922569",
     "status": "completed"
    },
    "tags": []
   },
   "source": [
    "# Configuration"
   ]
  },
  {
   "cell_type": "code",
   "execution_count": 4,
   "id": "10631187",
   "metadata": {
    "execution": {
     "iopub.execute_input": "2023-01-18T06:33:54.949203Z",
     "iopub.status.busy": "2023-01-18T06:33:54.948865Z",
     "iopub.status.idle": "2023-01-18T06:33:54.958519Z",
     "shell.execute_reply": "2023-01-18T06:33:54.957441Z"
    },
    "papermill": {
     "duration": 0.021753,
     "end_time": "2023-01-18T06:33:54.960789",
     "exception": false,
     "start_time": "2023-01-18T06:33:54.939036",
     "status": "completed"
    },
    "tags": []
   },
   "outputs": [],
   "source": [
    "class CFG:\n",
    "    debug         = False\n",
    "    \n",
    "    # use verbose=0 for silent, vebose=1 for interactive,\n",
    "    verbose      = 1 if debug else 0\n",
    "    \n",
    "    # device\n",
    "    device = \"GPU\" # or \"GPU\"\n",
    "\n",
    "    # seed for data-split, layer init, augs\n",
    "    seed = 42\n",
    "    \n",
    "    # which folds of ckpt to use\n",
    "    num_folds = 3\n",
    "\n",
    "    # dicom to png size\n",
    "    resize_dim = 2048\n",
    "    aspect_ratio = True\n",
    "    \n",
    "    # size of training image\n",
    "    img_size = [1024, 512]\n",
    "\n",
    "    # augmentation\n",
    "    augment   = True\n",
    "\n",
    "    # scale-shift-rotate-shear\n",
    "    transform = False\n",
    "    fill_mode = 'constant'\n",
    "    rot    = 2.0\n",
    "    shr    = 2.0\n",
    "    hzoom  = 50.0\n",
    "    wzoom  = 50.0\n",
    "    hshift = 10.0\n",
    "    wshift = 10.0\n",
    "\n",
    "    # flip\n",
    "    hflip = False\n",
    "    vflip = False\n",
    "\n",
    "    # clip\n",
    "    clip = False\n",
    "\n",
    "    # lr-scheduler\n",
    "    scheduler   = 'exp' # cosine\n",
    "\n",
    "    # dropout\n",
    "    drop_prob   = 0.0\n",
    "    drop_cnt    = 10\n",
    "    drop_size   = 0.08\n",
    "\n",
    "    # pixel-augment\n",
    "    pixel_aug = False\n",
    "    sat  = [0.7, 1.3]\n",
    "    cont = [0.8, 1.2]\n",
    "    bri  = 0.15\n",
    "    hue  = 0.05\n",
    "\n",
    "    # threshold\n",
    "    thr = 0.70\n",
    "    \n",
    "    # test-time augs\n",
    "    flip_model = False\n",
    "    tta = 1\n",
    "    \n",
    "    # target column\n",
    "    target_col  = ['cancer']"
   ]
  },
  {
   "cell_type": "markdown",
   "id": "a4297305",
   "metadata": {
    "papermill": {
     "duration": 0.008234,
     "end_time": "2023-01-18T06:33:54.977727",
     "exception": false,
     "start_time": "2023-01-18T06:33:54.969493",
     "status": "completed"
    },
    "tags": []
   },
   "source": [
    "# Reproducibility"
   ]
  },
  {
   "cell_type": "code",
   "execution_count": 5,
   "id": "01d060a0",
   "metadata": {
    "execution": {
     "iopub.execute_input": "2023-01-18T06:33:54.996329Z",
     "iopub.status.busy": "2023-01-18T06:33:54.996001Z",
     "iopub.status.idle": "2023-01-18T06:33:55.004094Z",
     "shell.execute_reply": "2023-01-18T06:33:55.003179Z"
    },
    "papermill": {
     "duration": 0.019893,
     "end_time": "2023-01-18T06:33:55.006390",
     "exception": false,
     "start_time": "2023-01-18T06:33:54.986497",
     "status": "completed"
    },
    "tags": []
   },
   "outputs": [
    {
     "name": "stdout",
     "output_type": "stream",
     "text": [
      "seeding done!!!\n"
     ]
    }
   ],
   "source": [
    "def seeding(SEED):\n",
    "    np.random.seed(SEED)\n",
    "    random.seed(SEED)\n",
    "    os.environ['PYTHONHASHSEED'] = str(SEED)\n",
    "#     os.environ['TF_CUDNN_DETERMINISTIC'] = str(SEED)\n",
    "    tf.random.set_seed(SEED)\n",
    "    print('seeding done!!!')\n",
    "seeding(CFG.seed)"
   ]
  },
  {
   "cell_type": "markdown",
   "id": "45ad7e1e",
   "metadata": {
    "papermill": {
     "duration": 0.008195,
     "end_time": "2023-01-18T06:33:55.022930",
     "exception": false,
     "start_time": "2023-01-18T06:33:55.014735",
     "status": "completed"
    },
    "tags": []
   },
   "source": [
    "# Device Configs\n",
    "This notebook is compatible for **remote-tpu**, **local-tpu**, **multi-gpu** and **single-gpu**. Simple change to `device=\"TPU\"` for **remote-tpu** and `device=\"TPU-1VM\"` for **local-tpu** and finally, `device=\"GPU\"` for single or multi-gpu."
   ]
  },
  {
   "cell_type": "code",
   "execution_count": 6,
   "id": "fb1e359e",
   "metadata": {
    "_kg_hide-input": true,
    "_kg_hide-output": true,
    "execution": {
     "iopub.execute_input": "2023-01-18T06:33:55.041419Z",
     "iopub.status.busy": "2023-01-18T06:33:55.041022Z",
     "iopub.status.idle": "2023-01-18T06:33:55.221716Z",
     "shell.execute_reply": "2023-01-18T06:33:55.220401Z"
    },
    "papermill": {
     "duration": 0.192599,
     "end_time": "2023-01-18T06:33:55.223940",
     "exception": false,
     "start_time": "2023-01-18T06:33:55.031341",
     "status": "completed"
    },
    "tags": []
   },
   "outputs": [
    {
     "name": "stdout",
     "output_type": "stream",
     "text": [
      "Using single GPU\n",
      "Num GPUs Available:  1\n",
      "REPLICAS: 1\n"
     ]
    }
   ],
   "source": [
    "if \"TPU\" in CFG.device:\n",
    "    tpu = 'local' if CFG.device=='TPU-1VM' else None\n",
    "    print(\"connecting to TPU...\")\n",
    "    try:\n",
    "        tpu = tf.distribute.cluster_resolver.TPUClusterResolver.connect(tpu=tpu)\n",
    "        strategy = tf.distribute.TPUStrategy(tpu)\n",
    "    except:\n",
    "        CFG.device = \"GPU\"\n",
    "        \n",
    "if CFG.device == \"GPU\"  or CFG.device==\"CPU\":\n",
    "    ngpu = len(tf.config.experimental.list_physical_devices('GPU'))\n",
    "    if ngpu>1:\n",
    "        print(\"Using multi GPU\")\n",
    "        strategy = tf.distribute.MirroredStrategy()\n",
    "    elif ngpu==1:\n",
    "        print(\"Using single GPU\")\n",
    "        strategy = tf.distribute.get_strategy()\n",
    "    else:\n",
    "        print(\"Using CPU\")\n",
    "        strategy = tf.distribute.get_strategy()\n",
    "        CFG.device = \"CPU\"\n",
    "\n",
    "if CFG.device == \"GPU\":\n",
    "    print(\"Num GPUs Available: \", ngpu)\n",
    "    \n",
    "\n",
    "AUTO     = tf.data.experimental.AUTOTUNE\n",
    "REPLICAS = strategy.num_replicas_in_sync\n",
    "print(f'REPLICAS: {REPLICAS}')"
   ]
  },
  {
   "cell_type": "markdown",
   "id": "1e2b86e9",
   "metadata": {
    "papermill": {
     "duration": 0.00845,
     "end_time": "2023-01-18T06:33:55.241237",
     "exception": false,
     "start_time": "2023-01-18T06:33:55.232787",
     "status": "completed"
    },
    "tags": []
   },
   "source": [
    "# Meta Data"
   ]
  },
  {
   "cell_type": "code",
   "execution_count": 7,
   "id": "136198df",
   "metadata": {
    "execution": {
     "iopub.execute_input": "2023-01-18T06:33:55.261118Z",
     "iopub.status.busy": "2023-01-18T06:33:55.259335Z",
     "iopub.status.idle": "2023-01-18T06:33:55.264564Z",
     "shell.execute_reply": "2023-01-18T06:33:55.263669Z"
    },
    "papermill": {
     "duration": 0.016983,
     "end_time": "2023-01-18T06:33:55.266622",
     "exception": false,
     "start_time": "2023-01-18T06:33:55.249639",
     "status": "completed"
    },
    "tags": []
   },
   "outputs": [],
   "source": [
    "BASE_PATH = '/kaggle/input/rsna-breast-cancer-detection'\n",
    "IMG_DIR = '/tmp/dataset/rsna-bcd'"
   ]
  },
  {
   "cell_type": "code",
   "execution_count": 8,
   "id": "b47295c0",
   "metadata": {
    "execution": {
     "iopub.execute_input": "2023-01-18T06:33:55.285648Z",
     "iopub.status.busy": "2023-01-18T06:33:55.284788Z",
     "iopub.status.idle": "2023-01-18T06:33:55.647382Z",
     "shell.execute_reply": "2023-01-18T06:33:55.646341Z"
    },
    "papermill": {
     "duration": 0.374347,
     "end_time": "2023-01-18T06:33:55.649414",
     "exception": false,
     "start_time": "2023-01-18T06:33:55.275067",
     "status": "completed"
    },
    "tags": []
   },
   "outputs": [
    {
     "name": "stdout",
     "output_type": "stream",
     "text": [
      "Train:\n"
     ]
    },
    {
     "name": "stderr",
     "output_type": "stream",
     "text": [
      "/opt/conda/lib/python3.7/site-packages/ipykernel_launcher.py:7: FutureWarning: The default value of regex will change from True to False in a future version.\n",
      "  import sys\n"
     ]
    },
    {
     "data": {
      "text/html": [
       "<div>\n",
       "<style scoped>\n",
       "    .dataframe tbody tr th:only-of-type {\n",
       "        vertical-align: middle;\n",
       "    }\n",
       "\n",
       "    .dataframe tbody tr th {\n",
       "        vertical-align: top;\n",
       "    }\n",
       "\n",
       "    .dataframe thead th {\n",
       "        text-align: right;\n",
       "    }\n",
       "</style>\n",
       "<table border=\"1\" class=\"dataframe\">\n",
       "  <thead>\n",
       "    <tr style=\"text-align: right;\">\n",
       "      <th></th>\n",
       "      <th>site_id</th>\n",
       "      <th>patient_id</th>\n",
       "      <th>image_id</th>\n",
       "      <th>laterality</th>\n",
       "      <th>view</th>\n",
       "      <th>age</th>\n",
       "      <th>cancer</th>\n",
       "      <th>biopsy</th>\n",
       "      <th>invasive</th>\n",
       "      <th>BIRADS</th>\n",
       "      <th>implant</th>\n",
       "      <th>density</th>\n",
       "      <th>machine_id</th>\n",
       "      <th>difficult_negative_case</th>\n",
       "      <th>dicom_path</th>\n",
       "      <th>image_path</th>\n",
       "    </tr>\n",
       "  </thead>\n",
       "  <tbody>\n",
       "    <tr>\n",
       "      <th>0</th>\n",
       "      <td>2</td>\n",
       "      <td>10006</td>\n",
       "      <td>462822612</td>\n",
       "      <td>L</td>\n",
       "      <td>CC</td>\n",
       "      <td>61.0</td>\n",
       "      <td>0</td>\n",
       "      <td>0</td>\n",
       "      <td>0</td>\n",
       "      <td>NaN</td>\n",
       "      <td>0</td>\n",
       "      <td>NaN</td>\n",
       "      <td>29</td>\n",
       "      <td>False</td>\n",
       "      <td>/kaggle/input/rsna-breast-cancer-detection/tra...</td>\n",
       "      <td>/tmp/dataset/rsna-bcd/train_images/10006/46282...</td>\n",
       "    </tr>\n",
       "    <tr>\n",
       "      <th>1</th>\n",
       "      <td>2</td>\n",
       "      <td>10006</td>\n",
       "      <td>1459541791</td>\n",
       "      <td>L</td>\n",
       "      <td>MLO</td>\n",
       "      <td>61.0</td>\n",
       "      <td>0</td>\n",
       "      <td>0</td>\n",
       "      <td>0</td>\n",
       "      <td>NaN</td>\n",
       "      <td>0</td>\n",
       "      <td>NaN</td>\n",
       "      <td>29</td>\n",
       "      <td>False</td>\n",
       "      <td>/kaggle/input/rsna-breast-cancer-detection/tra...</td>\n",
       "      <td>/tmp/dataset/rsna-bcd/train_images/10006/14595...</td>\n",
       "    </tr>\n",
       "  </tbody>\n",
       "</table>\n",
       "</div>"
      ],
      "text/plain": [
       "   site_id  patient_id    image_id laterality view   age  cancer  biopsy  \\\n",
       "0        2       10006   462822612          L   CC  61.0       0       0   \n",
       "1        2       10006  1459541791          L  MLO  61.0       0       0   \n",
       "\n",
       "   invasive  BIRADS  implant density  machine_id  difficult_negative_case  \\\n",
       "0         0     NaN        0     NaN          29                    False   \n",
       "1         0     NaN        0     NaN          29                    False   \n",
       "\n",
       "                                          dicom_path  \\\n",
       "0  /kaggle/input/rsna-breast-cancer-detection/tra...   \n",
       "1  /kaggle/input/rsna-breast-cancer-detection/tra...   \n",
       "\n",
       "                                          image_path  \n",
       "0  /tmp/dataset/rsna-bcd/train_images/10006/46282...  \n",
       "1  /tmp/dataset/rsna-bcd/train_images/10006/14595...  "
      ]
     },
     "metadata": {},
     "output_type": "display_data"
    },
    {
     "name": "stdout",
     "output_type": "stream",
     "text": [
      "\n",
      "Test:\n"
     ]
    },
    {
     "name": "stderr",
     "output_type": "stream",
     "text": [
      "/opt/conda/lib/python3.7/site-packages/ipykernel_launcher.py:17: FutureWarning: The default value of regex will change from True to False in a future version.\n",
      "  app.launch_new_instance()\n"
     ]
    },
    {
     "data": {
      "text/html": [
       "<div>\n",
       "<style scoped>\n",
       "    .dataframe tbody tr th:only-of-type {\n",
       "        vertical-align: middle;\n",
       "    }\n",
       "\n",
       "    .dataframe tbody tr th {\n",
       "        vertical-align: top;\n",
       "    }\n",
       "\n",
       "    .dataframe thead th {\n",
       "        text-align: right;\n",
       "    }\n",
       "</style>\n",
       "<table border=\"1\" class=\"dataframe\">\n",
       "  <thead>\n",
       "    <tr style=\"text-align: right;\">\n",
       "      <th></th>\n",
       "      <th>site_id</th>\n",
       "      <th>patient_id</th>\n",
       "      <th>image_id</th>\n",
       "      <th>laterality</th>\n",
       "      <th>view</th>\n",
       "      <th>age</th>\n",
       "      <th>implant</th>\n",
       "      <th>machine_id</th>\n",
       "      <th>prediction_id</th>\n",
       "      <th>dicom_path</th>\n",
       "      <th>image_path</th>\n",
       "    </tr>\n",
       "  </thead>\n",
       "  <tbody>\n",
       "    <tr>\n",
       "      <th>0</th>\n",
       "      <td>2</td>\n",
       "      <td>10008</td>\n",
       "      <td>736471439</td>\n",
       "      <td>L</td>\n",
       "      <td>MLO</td>\n",
       "      <td>81</td>\n",
       "      <td>0</td>\n",
       "      <td>21</td>\n",
       "      <td>10008_L</td>\n",
       "      <td>/kaggle/input/rsna-breast-cancer-detection/tes...</td>\n",
       "      <td>/tmp/dataset/rsna-bcd/test_images/10008/736471...</td>\n",
       "    </tr>\n",
       "    <tr>\n",
       "      <th>1</th>\n",
       "      <td>2</td>\n",
       "      <td>10008</td>\n",
       "      <td>1591370361</td>\n",
       "      <td>L</td>\n",
       "      <td>CC</td>\n",
       "      <td>81</td>\n",
       "      <td>0</td>\n",
       "      <td>21</td>\n",
       "      <td>10008_L</td>\n",
       "      <td>/kaggle/input/rsna-breast-cancer-detection/tes...</td>\n",
       "      <td>/tmp/dataset/rsna-bcd/test_images/10008/159137...</td>\n",
       "    </tr>\n",
       "  </tbody>\n",
       "</table>\n",
       "</div>"
      ],
      "text/plain": [
       "   site_id  patient_id    image_id laterality view  age  implant  machine_id  \\\n",
       "0        2       10008   736471439          L  MLO   81        0          21   \n",
       "1        2       10008  1591370361          L   CC   81        0          21   \n",
       "\n",
       "  prediction_id                                         dicom_path  \\\n",
       "0       10008_L  /kaggle/input/rsna-breast-cancer-detection/tes...   \n",
       "1       10008_L  /kaggle/input/rsna-breast-cancer-detection/tes...   \n",
       "\n",
       "                                          image_path  \n",
       "0  /tmp/dataset/rsna-bcd/test_images/10008/736471...  \n",
       "1  /tmp/dataset/rsna-bcd/test_images/10008/159137...  "
      ]
     },
     "metadata": {},
     "output_type": "display_data"
    }
   ],
   "source": [
    "# train\n",
    "df = pd.read_csv(f'{BASE_PATH}/train.csv')\n",
    "df['dicom_path'] = f'{BASE_PATH}/train_images'\\\n",
    "                    + '/' + df.patient_id.astype(str)\\\n",
    "                    + '/' + df.image_id.astype(str)\\\n",
    "                    + '.dcm'\n",
    "df['image_path'] = df.dicom_path.str.replace('.dcm','.png').str.replace(BASE_PATH, IMG_DIR)\n",
    "print('Train:')\n",
    "display(df.head(2))\n",
    "\n",
    "# test\n",
    "test_df = pd.read_csv(f'{BASE_PATH}/test.csv')\n",
    "test_df['dicom_path'] = f'{BASE_PATH}/test_images'\\\n",
    "                    + '/' + test_df.patient_id.astype(str)\\\n",
    "                    + '/' + test_df.image_id.astype(str)\\\n",
    "                    + '.dcm'\n",
    "test_df['image_path'] = test_df.dicom_path.str.replace('.dcm','.png').str.replace(BASE_PATH, IMG_DIR)\n",
    "print('\\nTest:')\n",
    "display(test_df.head(2))"
   ]
  },
  {
   "cell_type": "markdown",
   "id": "92345df1",
   "metadata": {
    "papermill": {
     "duration": 0.009259,
     "end_time": "2023-01-18T06:33:55.668132",
     "exception": false,
     "start_time": "2023-01-18T06:33:55.658873",
     "status": "completed"
    },
    "tags": []
   },
   "source": [
    "# Check If Data Exist?"
   ]
  },
  {
   "cell_type": "code",
   "execution_count": 9,
   "id": "f2cd64a4",
   "metadata": {
    "execution": {
     "iopub.execute_input": "2023-01-18T06:33:55.688814Z",
     "iopub.status.busy": "2023-01-18T06:33:55.687997Z",
     "iopub.status.idle": "2023-01-18T06:33:55.699635Z",
     "shell.execute_reply": "2023-01-18T06:33:55.698571Z"
    },
    "papermill": {
     "duration": 0.024442,
     "end_time": "2023-01-18T06:33:55.701882",
     "exception": false,
     "start_time": "2023-01-18T06:33:55.677440",
     "status": "completed"
    },
    "tags": []
   },
   "outputs": [
    {
     "data": {
      "text/plain": [
       "(True, True)"
      ]
     },
     "execution_count": 9,
     "metadata": {},
     "output_type": "execute_result"
    }
   ],
   "source": [
    "tf.io.gfile.exists(df.dicom_path.iloc[0]), tf.io.gfile.exists(test_df.dicom_path.iloc[0])"
   ]
  },
  {
   "cell_type": "markdown",
   "id": "202462de",
   "metadata": {
    "papermill": {
     "duration": 0.008849,
     "end_time": "2023-01-18T06:33:55.720342",
     "exception": false,
     "start_time": "2023-01-18T06:33:55.711493",
     "status": "completed"
    },
    "tags": []
   },
   "source": [
    "## Train-Test Ditribution"
   ]
  },
  {
   "cell_type": "code",
   "execution_count": 10,
   "id": "3a0405e8",
   "metadata": {
    "execution": {
     "iopub.execute_input": "2023-01-18T06:33:55.740884Z",
     "iopub.status.busy": "2023-01-18T06:33:55.739898Z",
     "iopub.status.idle": "2023-01-18T06:33:55.745506Z",
     "shell.execute_reply": "2023-01-18T06:33:55.744575Z"
    },
    "papermill": {
     "duration": 0.017959,
     "end_time": "2023-01-18T06:33:55.747731",
     "exception": false,
     "start_time": "2023-01-18T06:33:55.729772",
     "status": "completed"
    },
    "tags": []
   },
   "outputs": [
    {
     "name": "stdout",
     "output_type": "stream",
     "text": [
      "train_files: 54706\n",
      "test_files: 4\n"
     ]
    }
   ],
   "source": [
    "print('train_files:',df.shape[0])\n",
    "print('test_files:',test_df.shape[0])"
   ]
  },
  {
   "cell_type": "markdown",
   "id": "55929ced",
   "metadata": {
    "papermill": {
     "duration": 0.009377,
     "end_time": "2023-01-18T06:33:55.766414",
     "exception": false,
     "start_time": "2023-01-18T06:33:55.757037",
     "status": "completed"
    },
    "tags": []
   },
   "source": [
    "# DICOM to PNG"
   ]
  },
  {
   "cell_type": "markdown",
   "id": "65c152ac",
   "metadata": {
    "papermill": {
     "duration": 0.009184,
     "end_time": "2023-01-18T06:33:55.785129",
     "exception": false,
     "start_time": "2023-01-18T06:33:55.775945",
     "status": "completed"
    },
    "tags": []
   },
   "source": [
    "## Create Directory"
   ]
  },
  {
   "cell_type": "code",
   "execution_count": 11,
   "id": "31f09670",
   "metadata": {
    "_kg_hide-input": true,
    "execution": {
     "iopub.execute_input": "2023-01-18T06:33:55.806065Z",
     "iopub.status.busy": "2023-01-18T06:33:55.804999Z",
     "iopub.status.idle": "2023-01-18T06:33:56.762782Z",
     "shell.execute_reply": "2023-01-18T06:33:56.761605Z"
    },
    "papermill": {
     "duration": 0.971251,
     "end_time": "2023-01-18T06:33:56.765645",
     "exception": false,
     "start_time": "2023-01-18T06:33:55.794394",
     "status": "completed"
    },
    "tags": []
   },
   "outputs": [
    {
     "name": "stdout",
     "output_type": "stream",
     "text": [
      "rm: cannot remove '/tmp/Dataset/rsna-bcd': No such file or directory\r\n"
     ]
    }
   ],
   "source": [
    "!rm -r /tmp/Dataset/rsna-bcd\n",
    "os.makedirs('/tmp/dataset/rsna-bcd/train_images', exist_ok = True)\n",
    "os.makedirs('/tmp/dataset/rsna-bcd/test_images', exist_ok = True)"
   ]
  },
  {
   "cell_type": "markdown",
   "id": "6e758156",
   "metadata": {
    "papermill": {
     "duration": 0.009301,
     "end_time": "2023-01-18T06:33:56.784547",
     "exception": false,
     "start_time": "2023-01-18T06:33:56.775246",
     "status": "completed"
    },
    "tags": []
   },
   "source": [
    "## ROI Utils"
   ]
  },
  {
   "cell_type": "code",
   "execution_count": 12,
   "id": "4a212ed4",
   "metadata": {
    "_kg_hide-input": true,
    "execution": {
     "iopub.execute_input": "2023-01-18T06:33:56.805218Z",
     "iopub.status.busy": "2023-01-18T06:33:56.804839Z",
     "iopub.status.idle": "2023-01-18T06:33:56.975555Z",
     "shell.execute_reply": "2023-01-18T06:33:56.974579Z"
    },
    "papermill": {
     "duration": 0.184156,
     "end_time": "2023-01-18T06:33:56.977985",
     "exception": false,
     "start_time": "2023-01-18T06:33:56.793829",
     "status": "completed"
    },
    "tags": []
   },
   "outputs": [],
   "source": [
    "import cv2\n",
    "\n",
    "def img2roi(img):\n",
    "    # Binarize the image\n",
    "    bin_img = cv2.threshold(img, 20, 255, cv2.THRESH_BINARY)[1]\n",
    "\n",
    "    # Make contours around the binarized image, keep only the largest contour\n",
    "    contours, _ = cv2.findContours(bin_img, cv2.RETR_EXTERNAL, cv2.CHAIN_APPROX_NONE)\n",
    "    contour = max(contours, key=cv2.contourArea)\n",
    "\n",
    "    # Find ROI from largest contour\n",
    "    ys = contour.squeeze()[:, 0]\n",
    "    xs = contour.squeeze()[:, 1]\n",
    "    roi =  img[np.min(xs):np.max(xs), np.min(ys):np.max(ys)]\n",
    "    \n",
    "    return roi"
   ]
  },
  {
   "cell_type": "markdown",
   "id": "f6d69f98",
   "metadata": {
    "papermill": {
     "duration": 0.009161,
     "end_time": "2023-01-18T06:33:56.997485",
     "exception": false,
     "start_time": "2023-01-18T06:33:56.988324",
     "status": "completed"
    },
    "tags": []
   },
   "source": [
    "## Dicom Utils"
   ]
  },
  {
   "cell_type": "code",
   "execution_count": 13,
   "id": "3536db8e",
   "metadata": {
    "_kg_hide-input": true,
    "execution": {
     "iopub.execute_input": "2023-01-18T06:33:57.017955Z",
     "iopub.status.busy": "2023-01-18T06:33:57.017606Z",
     "iopub.status.idle": "2023-01-18T06:33:57.033632Z",
     "shell.execute_reply": "2023-01-18T06:33:57.032732Z"
    },
    "papermill": {
     "duration": 0.028568,
     "end_time": "2023-01-18T06:33:57.035680",
     "exception": false,
     "start_time": "2023-01-18T06:33:57.007112",
     "status": "completed"
    },
    "tags": []
   },
   "outputs": [],
   "source": [
    "# import pydicom\n",
    "# from pydicom.pixel_data_handlers.util import apply_voi_lut\n",
    "\n",
    "\n",
    "import dicomsdl\n",
    "\n",
    "\n",
    "def read_xray(path, fix_monochrome = True):\n",
    "    dicom = dicomsdl.open(path)\n",
    "    data = dicom.pixelData(storedvalue=False)  # storedvalue = True for int16 return otherwise float32\n",
    "    data = data - np.min(data)\n",
    "    data = data / np.max(data)\n",
    "    if fix_monochrome and dicom.PhotometricInterpretation == \"MONOCHROME1\":\n",
    "        data = 1.0 - data\n",
    "    return data\n",
    "\n",
    "def resize_and_save(file_path):\n",
    "    img = read_xray(file_path)\n",
    "    h, w = img.shape[:2]  # orig hw\n",
    "    if CFG.aspect_ratio:\n",
    "        r = CFG.resize_dim / max(h, w)  # resize image to img_size\n",
    "        interp = cv2.INTER_LINEAR\n",
    "        if r != 1:  # always resize down, only resize up if training with augmentation\n",
    "            img = cv2.resize(img, (int(w * r), int(h * r)), interpolation=interp)\n",
    "    else:\n",
    "        img = cv2.resize(img, (CFG.resize_dim, CFG.resize_dim), cv2.INTER_LINEAR)\n",
    "    \n",
    "    img = (img * 255).astype(np.uint8)\n",
    "    img = img2roi(img)\n",
    "    img = cv2.resize(img, CFG.img_size[::-1], cv2.INTER_LINEAR)\n",
    "    \n",
    "    sub_path = file_path.split(\"/\",4)[-1].split('.dcm')[0] + '.png'\n",
    "    infos = sub_path.split('/')\n",
    "    pid = infos[-2]\n",
    "    iid = infos[-1]; iid = iid.replace('.png','')\n",
    "    new_path = os.path.join(IMG_DIR, sub_path)\n",
    "    os.makedirs(new_path.rsplit('/',1)[0], exist_ok=True)\n",
    "    cv2.imwrite(new_path, img)\n",
    "    return pid,iid,w,h"
   ]
  },
  {
   "cell_type": "markdown",
   "id": "e52f80dc",
   "metadata": {
    "papermill": {
     "duration": 0.009012,
     "end_time": "2023-01-18T06:33:57.054457",
     "exception": false,
     "start_time": "2023-01-18T06:33:57.045445",
     "status": "completed"
    },
    "tags": []
   },
   "source": [
    "## Conversion"
   ]
  },
  {
   "cell_type": "code",
   "execution_count": 14,
   "id": "2fdd6023",
   "metadata": {
    "execution": {
     "iopub.execute_input": "2023-01-18T06:33:57.076648Z",
     "iopub.status.busy": "2023-01-18T06:33:57.074913Z",
     "iopub.status.idle": "2023-01-18T06:33:59.762272Z",
     "shell.execute_reply": "2023-01-18T06:33:59.761054Z"
    },
    "papermill": {
     "duration": 2.700025,
     "end_time": "2023-01-18T06:33:59.764488",
     "exception": false,
     "start_time": "2023-01-18T06:33:57.064463",
     "status": "completed"
    },
    "tags": []
   },
   "outputs": [
    {
     "name": "stderr",
     "output_type": "stream",
     "text": [
      "100%|██████████| 4/4 [00:01<00:00,  2.01it/s]\n"
     ]
    },
    {
     "name": "stdout",
     "output_type": "stream",
     "text": [
      "CPU times: user 2.53 s, sys: 88.8 ms, total: 2.61 s\n",
      "Wall time: 2.68 s\n"
     ]
    }
   ],
   "source": [
    "%%time\n",
    "from joblib import Parallel, delayed\n",
    "file_paths = test_df.dicom_path.tolist()\n",
    "imgsize = Parallel(n_jobs=2,backend='threading')(delayed(resize_and_save)(file_path)\\\n",
    "                                                  for file_path in tqdm(file_paths, leave=True, position=0))"
   ]
  },
  {
   "cell_type": "markdown",
   "id": "27c4a1e8",
   "metadata": {
    "papermill": {
     "duration": 0.009779,
     "end_time": "2023-01-18T06:33:59.784137",
     "exception": false,
     "start_time": "2023-01-18T06:33:59.774358",
     "status": "completed"
    },
    "tags": []
   },
   "source": [
    "# Data Augmentation\n",
    "Used simple augmentations, some of them may hurt the model.\n",
    "* RandomFlip (Left-Right)\n",
    "* No Rotation\n",
    "* RandomBrightness\n",
    "* RndomContrast\n",
    "* Shear\n",
    "* Zoom\n",
    "* Coarsee Dropout/Cutout"
   ]
  },
  {
   "cell_type": "code",
   "execution_count": 15,
   "id": "2b5e2035",
   "metadata": {
    "_kg_hide-input": true,
    "execution": {
     "iopub.execute_input": "2023-01-18T06:33:59.805252Z",
     "iopub.status.busy": "2023-01-18T06:33:59.804908Z",
     "iopub.status.idle": "2023-01-18T06:33:59.829713Z",
     "shell.execute_reply": "2023-01-18T06:33:59.828739Z"
    },
    "papermill": {
     "duration": 0.038231,
     "end_time": "2023-01-18T06:33:59.831999",
     "exception": false,
     "start_time": "2023-01-18T06:33:59.793768",
     "status": "completed"
    },
    "tags": []
   },
   "outputs": [],
   "source": [
    "def get_mat(shear, height_zoom, width_zoom, height_shift, width_shift):\n",
    "    # returns 3x3 transformmatrix which transforms indicies\n",
    "        \n",
    "    # CONVERT DEGREES TO RADIANS\n",
    "    #rotation = math.pi * rotation / 180.\n",
    "    shear    = math.pi * shear    / 180.\n",
    "\n",
    "    def get_3x3_mat(lst):\n",
    "        return tf.reshape(tf.concat([lst],axis=0), [3,3])\n",
    "    \n",
    "    # ROTATION MATRIX\n",
    "#     c1   = tf.math.cos(rotation)\n",
    "#     s1   = tf.math.sin(rotation)\n",
    "    one  = tf.constant([1],dtype='float32')\n",
    "    zero = tf.constant([0],dtype='float32')\n",
    "    \n",
    "#     rotation_matrix = get_3x3_mat([c1,   s1,   zero, \n",
    "#                                    -s1,  c1,   zero, \n",
    "#                                    zero, zero, one])    \n",
    "    # SHEAR MATRIX\n",
    "    c2 = tf.math.cos(shear)\n",
    "    s2 = tf.math.sin(shear)    \n",
    "    \n",
    "    shear_matrix = get_3x3_mat([one,  s2,   zero, \n",
    "                               zero, c2,   zero, \n",
    "                                zero, zero, one])        \n",
    "    # ZOOM MATRIX\n",
    "    zoom_matrix = get_3x3_mat([one/height_zoom, zero,           zero, \n",
    "                               zero,            one/width_zoom, zero, \n",
    "                               zero,            zero,           one])    \n",
    "    # SHIFT MATRIX\n",
    "    shift_matrix = get_3x3_mat([one,  zero, height_shift, \n",
    "                                zero, one,  width_shift, \n",
    "                                zero, zero, one])\n",
    "    \n",
    "\n",
    "    return  K.dot(shear_matrix,K.dot(zoom_matrix, shift_matrix)) #K.dot(K.dot(rotation_matrix, shear_matrix), K.dot(zoom_matrix, shift_matrix))                  \n",
    "\n",
    "def transform(image, DIM=CFG.img_size):#[rot,shr,h_zoom,w_zoom,h_shift,w_shift]):\n",
    "    if DIM[0]>DIM[1]:\n",
    "        diff  = (DIM[0]-DIM[1])\n",
    "        pad   = [diff//2, diff//2 + diff%2]\n",
    "        image = tf.pad(image, [[0, 0], [pad[0], pad[1]],[0, 0]])\n",
    "        NEW_DIM = DIM[0]\n",
    "    elif DIM[0]<DIM[1]:\n",
    "        diff  = (DIM[1]-DIM[0])\n",
    "        pad   = [diff//2, diff//2 + diff%2]\n",
    "        image = tf.pad(image, [[pad[0], pad[1]], [0, 0],[0, 0]])\n",
    "        NEW_DIM = DIM[1]\n",
    "    \n",
    "    rot = CFG.rot * tf.random.normal([1], dtype='float32')\n",
    "    shr = CFG.shr * tf.random.normal([1], dtype='float32') \n",
    "    h_zoom = 1.0 + tf.random.normal([1], dtype='float32') / CFG.hzoom\n",
    "    w_zoom = 1.0 + tf.random.normal([1], dtype='float32') / CFG.wzoom\n",
    "    h_shift = CFG.hshift * tf.random.normal([1], dtype='float32') \n",
    "    w_shift = CFG.wshift * tf.random.normal([1], dtype='float32') \n",
    "    \n",
    "    transformation_matrix=tf.linalg.inv(get_mat(shr,h_zoom,w_zoom,h_shift,w_shift))\n",
    "    \n",
    "    flat_tensor=tfa.image.transform_ops.matrices_to_flat_transforms(transformation_matrix)\n",
    "    \n",
    "    image=tfa.image.transform(image,flat_tensor, fill_mode=CFG.fill_mode)\n",
    "    \n",
    "    rotation = math.pi * rot / 180.\n",
    "    \n",
    "    image=tfa.image.rotate(image,-rotation, fill_mode=CFG.fill_mode)\n",
    "    \n",
    "    if DIM[0]>DIM[1]:\n",
    "        image=tf.reshape(image, [NEW_DIM, NEW_DIM,3])\n",
    "        image = image[:, pad[0]:-pad[1],:]\n",
    "    elif DIM[1]>DIM[0]:\n",
    "        image=tf.reshape(image, [NEW_DIM, NEW_DIM,3])\n",
    "        image = image[pad[0]:-pad[1],:,:]\n",
    "    image = tf.reshape(image, [*DIM, 3])    \n",
    "    return image\n",
    "\n",
    "def dropout(image,DIM=CFG.img_size, PROBABILITY = 0.6, CT = 5, SZ = 0.1):\n",
    "    # input image - is one image of size [dim,dim,3] not a batch of [b,dim,dim,3]\n",
    "    # output - image with CT squares of side size SZ*DIM removed\n",
    "    \n",
    "    # DO DROPOUT WITH PROBABILITY DEFINED ABOVE\n",
    "    P = tf.cast( tf.random.uniform([],0,1)<PROBABILITY, tf.int32)\n",
    "    if (P==0)|(CT==0)|(SZ==0): \n",
    "        return image\n",
    "    \n",
    "    for k in range(CT):\n",
    "        # CHOOSE RANDOM LOCATION\n",
    "        x = tf.cast( tf.random.uniform([],0,DIM[1]),tf.int32)\n",
    "        y = tf.cast( tf.random.uniform([],0,DIM[0]),tf.int32)\n",
    "        # COMPUTE SQUARE \n",
    "        WIDTH = tf.cast( SZ*min(DIM),tf.int32) * P\n",
    "        ya = tf.math.maximum(0,y-WIDTH//2)\n",
    "        yb = tf.math.minimum(DIM[0],y+WIDTH//2)\n",
    "        xa = tf.math.maximum(0,x-WIDTH//2)\n",
    "        xb = tf.math.minimum(DIM[1],x+WIDTH//2)\n",
    "        # DROPOUT IMAGE\n",
    "        one = image[ya:yb,0:xa,:]\n",
    "        two = tf.zeros([yb-ya,xb-xa,3], dtype = image.dtype) \n",
    "        three = image[ya:yb,xb:DIM[1],:]\n",
    "        middle = tf.concat([one,two,three],axis=1)\n",
    "        image = tf.concat([image[0:ya,:,:],middle,image[yb:DIM[0],:,:]],axis=0)\n",
    "        image = tf.reshape(image,[*DIM,3])\n",
    "\n",
    "#     image = tf.reshape(image,[*DIM,3])\n",
    "    return image"
   ]
  },
  {
   "cell_type": "markdown",
   "id": "cb09b139",
   "metadata": {
    "papermill": {
     "duration": 0.010029,
     "end_time": "2023-01-18T06:33:59.852236",
     "exception": false,
     "start_time": "2023-01-18T06:33:59.842207",
     "status": "completed"
    },
    "tags": []
   },
   "source": [
    "## Data Pipeline\n",
    "* Reads the raw file and then decodes it to tf.Tensor\n",
    "* Resizes the image in desired size\n",
    "* Chages the datatype to **float32**\n",
    "* Caches the Data for boosting up the speed.\n",
    "* Uses Augmentations to reduce overfitting and make model more robust.\n",
    "* Finally, splits the data into batches.\n"
   ]
  },
  {
   "cell_type": "code",
   "execution_count": 16,
   "id": "454a660c",
   "metadata": {
    "_kg_hide-input": true,
    "execution": {
     "iopub.execute_input": "2023-01-18T06:33:59.873849Z",
     "iopub.status.busy": "2023-01-18T06:33:59.873491Z",
     "iopub.status.idle": "2023-01-18T06:33:59.890523Z",
     "shell.execute_reply": "2023-01-18T06:33:59.889571Z"
    },
    "papermill": {
     "duration": 0.030273,
     "end_time": "2023-01-18T06:33:59.892672",
     "exception": false,
     "start_time": "2023-01-18T06:33:59.862399",
     "status": "completed"
    },
    "tags": []
   },
   "outputs": [],
   "source": [
    "def build_decoder(with_labels=True, target_size=CFG.img_size, ext='png'):\n",
    "    def decode(path):\n",
    "        file_bytes = tf.io.read_file(path)\n",
    "        if ext == 'png':\n",
    "            img = tf.image.decode_png(file_bytes, channels=3)\n",
    "        elif ext in ['jpg', 'jpeg']:\n",
    "            img = tf.image.decode_jpeg(file_bytes, channels=3)\n",
    "        else:\n",
    "            raise ValueError(\"Image extension not supported\")\n",
    "\n",
    "#         img = tf.image.resize(img, target_size)\n",
    "        img = tf.cast(img, tf.float32) / 255.0\n",
    "        img = tf.reshape(img, [*target_size, 3])\n",
    "\n",
    "        return img\n",
    "    \n",
    "    def decode_with_labels(path, label):\n",
    "        return decode(path), tf.cast(label, tf.float32)\n",
    "    \n",
    "    return decode_with_labels if with_labels else decode\n",
    "\n",
    "\n",
    "def build_augmenter(with_labels=True, dim=CFG.img_size):\n",
    "    def augment(img, dim=dim):\n",
    "        img = transform(img,DIM=dim) if CFG.transform else img\n",
    "        img = tf.image.random_flip_left_right(img) if CFG.hflip else img\n",
    "        img = tf.image.random_flip_up_down(img) if CFG.vflip else img\n",
    "        if CFG.pixel_aug:\n",
    "            img = tf.image.random_hue(img, CFG.hue)\n",
    "            img = tf.image.random_saturation(img, CFG.sat[0], CFG.sat[1])\n",
    "            img = tf.image.random_contrast(img, CFG.cont[0], CFG.cont[1])\n",
    "            img = tf.image.random_brightness(img, CFG.bri)\n",
    "        img = dropout(img, DIM=dim, PROBABILITY = CFG.drop_prob, CT = CFG.drop_cnt, SZ = CFG.drop_size)\n",
    "        img = tf.clip_by_value(img, 0, 1)  if CFG.clip else img         \n",
    "        img = tf.reshape(img, [*dim, 3])\n",
    "        return img\n",
    "    \n",
    "    def augment_with_labels(img, label):    \n",
    "        return augment(img), label\n",
    "    \n",
    "    return augment_with_labels if with_labels else augment\n",
    "\n",
    "\n",
    "def build_dataset(paths, labels=None, batch_size=32, cache=True,\n",
    "                  decode_fn=None, augment_fn=None,\n",
    "                  augment=True, repeat=True, shuffle=1024, \n",
    "                  cache_dir=\"\", drop_remainder=False):\n",
    "    if cache_dir != \"\" and cache is True:\n",
    "        os.makedirs(cache_dir, exist_ok=True)\n",
    "    \n",
    "    if decode_fn is None:\n",
    "        decode_fn = build_decoder(labels is not None)\n",
    "    \n",
    "    if augment_fn is None:\n",
    "        augment_fn = build_augmenter(labels is not None)\n",
    "    \n",
    "    AUTO = tf.data.experimental.AUTOTUNE\n",
    "    slices = paths if labels is None else (paths, labels)\n",
    "    \n",
    "    ds = tf.data.Dataset.from_tensor_slices(slices)\n",
    "    ds = ds.map(decode_fn, num_parallel_calls=AUTO)\n",
    "    ds = ds.cache(cache_dir) if cache else ds\n",
    "    ds = ds.repeat() if repeat else ds\n",
    "    if shuffle: \n",
    "        ds = ds.shuffle(shuffle, seed=CFG.seed)\n",
    "        opt = tf.data.Options()\n",
    "        opt.experimental_deterministic = False\n",
    "        ds = ds.with_options(opt)\n",
    "    ds = ds.map(augment_fn, num_parallel_calls=AUTO) if augment else ds\n",
    "    ds = ds.batch(batch_size, drop_remainder=drop_remainder)\n",
    "    ds = ds.prefetch(AUTO)\n",
    "    return ds"
   ]
  },
  {
   "cell_type": "markdown",
   "id": "55d12502",
   "metadata": {
    "papermill": {
     "duration": 0.010523,
     "end_time": "2023-01-18T06:33:59.913449",
     "exception": false,
     "start_time": "2023-01-18T06:33:59.902926",
     "status": "completed"
    },
    "tags": []
   },
   "source": [
    "## Visualization\n",
    "* Check if augmentation is working properly or not."
   ]
  },
  {
   "cell_type": "code",
   "execution_count": 17,
   "id": "c2be90f7",
   "metadata": {
    "_kg_hide-input": true,
    "execution": {
     "iopub.execute_input": "2023-01-18T06:33:59.935287Z",
     "iopub.status.busy": "2023-01-18T06:33:59.934212Z",
     "iopub.status.idle": "2023-01-18T06:33:59.940792Z",
     "shell.execute_reply": "2023-01-18T06:33:59.939727Z"
    },
    "papermill": {
     "duration": 0.019428,
     "end_time": "2023-01-18T06:33:59.942905",
     "exception": false,
     "start_time": "2023-01-18T06:33:59.923477",
     "status": "completed"
    },
    "tags": []
   },
   "outputs": [],
   "source": [
    "def display_batch(batch, size=2):\n",
    "    imgs = batch\n",
    "    plt.figure(figsize=(size*2, 10))\n",
    "    for img_idx in range(size):\n",
    "        plt.subplot(1, size, img_idx+1)\n",
    "        plt.imshow(imgs[img_idx,:, :, :])\n",
    "        plt.xticks([])\n",
    "        plt.yticks([])\n",
    "    plt.tight_layout()\n",
    "    plt.show() "
   ]
  },
  {
   "cell_type": "code",
   "execution_count": 18,
   "id": "89d20daa",
   "metadata": {
    "_kg_hide-input": true,
    "execution": {
     "iopub.execute_input": "2023-01-18T06:33:59.964823Z",
     "iopub.status.busy": "2023-01-18T06:33:59.964114Z",
     "iopub.status.idle": "2023-01-18T06:34:05.213407Z",
     "shell.execute_reply": "2023-01-18T06:34:05.212434Z"
    },
    "papermill": {
     "duration": 5.263993,
     "end_time": "2023-01-18T06:34:05.216705",
     "exception": false,
     "start_time": "2023-01-18T06:33:59.952712",
     "status": "completed"
    },
    "tags": []
   },
   "outputs": [
    {
     "name": "stderr",
     "output_type": "stream",
     "text": [
      "Cleanup called...\n",
      "Cleanup called...\n",
      "Cleanup called...\n",
      "Cleanup called...\n",
      "Cleanup called...\n",
      "Cleanup called...\n",
      "Cleanup called...\n",
      "Cleanup called...\n",
      "Cleanup called...\n",
      "Cleanup called...\n",
      "Cleanup called...\n",
      "Cleanup called...\n",
      "Cleanup called...\n",
      "Cleanup called...\n",
      "Cleanup called...\n",
      "Cleanup called...\n",
      "Cleanup called...\n",
      "Cleanup called...\n",
      "Cleanup called...\n",
      "Cleanup called...\n",
      "Cleanup called...\n",
      "Cleanup called...\n",
      "Cleanup called...\n",
      "Cleanup called...\n",
      "Cleanup called...\n",
      "Cleanup called...\n",
      "Cleanup called...\n",
      "Cleanup called...\n",
      "Cleanup called...\n",
      "Cleanup called...\n",
      "Cleanup called...\n",
      "Cleanup called...\n",
      "Cleanup called...\n",
      "Cleanup called...\n",
      "Cleanup called...\n",
      "Cleanup called...\n",
      "Cleanup called...\n",
      "Cleanup called...\n",
      "Cleanup called...\n",
      "Cleanup called...\n",
      "Cleanup called...\n",
      "Cleanup called...\n"
     ]
    },
    {
     "data": {
      "image/png": "[encoded data removed]",
      "text/plain": [
       "<Figure size 720x720 with 5 Axes>"
      ]
     },
     "metadata": {},
     "output_type": "display_data"
    }
   ],
   "source": [
    "fold = 0\n",
    "fold_df = test_df.copy()\n",
    "paths  = fold_df.image_path.tolist()\n",
    "labels = None\n",
    "ds = build_dataset(paths, labels, cache=False, batch_size=32,\n",
    "                   repeat=True, shuffle=True, augment=True)\n",
    "ds = ds.unbatch().batch(20)\n",
    "batch = next(iter(ds))\n",
    "display_batch(batch, 5);"
   ]
  },
  {
   "cell_type": "markdown",
   "id": "278a0f85",
   "metadata": {
    "papermill": {
     "duration": 0.012387,
     "end_time": "2023-01-18T06:34:05.241625",
     "exception": false,
     "start_time": "2023-01-18T06:34:05.229238",
     "status": "completed"
    },
    "tags": []
   },
   "source": [
    "# Model Configs"
   ]
  },
  {
   "cell_type": "code",
   "execution_count": 19,
   "id": "1a415fa4",
   "metadata": {
    "execution": {
     "iopub.execute_input": "2023-01-18T06:34:05.267179Z",
     "iopub.status.busy": "2023-01-18T06:34:05.266315Z",
     "iopub.status.idle": "2023-01-18T06:34:05.279195Z",
     "shell.execute_reply": "2023-01-18T06:34:05.278293Z"
    },
    "papermill": {
     "duration": 0.028256,
     "end_time": "2023-01-18T06:34:05.281402",
     "exception": false,
     "start_time": "2023-01-18T06:34:05.253146",
     "status": "completed"
    },
    "tags": []
   },
   "outputs": [
    {
     "data": {
      "text/plain": [
       "[[[1024, 512],\n",
       "  ['/kaggle/input/ddsm-trained-model-kaggle/kaggle_fold-0.h5',\n",
       "   '/kaggle/input/ddsm-trained-model-kaggle/kaggle_fold-1.h5',\n",
       "   '/kaggle/input/ddsm-trained-model-kaggle/kaggle_fold-2.h5']]]"
      ]
     },
     "metadata": {},
     "output_type": "display_data"
    }
   ],
   "source": [
    "CKPT_DIRS = [\n",
    "    ([1024, 512], '/kaggle/input/ddsm-trained-model-kaggle'),\n",
    "]\n",
    "\n",
    "MODEL_CONFIGS = []\n",
    "for img_size, ckpt_dir in  CKPT_DIRS:\n",
    "    paths = sorted(glob(os.path.join(ckpt_dir, '*h5')))[0:CFG.num_folds]\n",
    "    if len(paths)==0:\n",
    "        print('no model found for :',base_dir)\n",
    "    MODEL_CONFIGS.append([img_size, paths])\n",
    "display(MODEL_CONFIGS)"
   ]
  },
  {
   "cell_type": "markdown",
   "id": "bfdfc03f",
   "metadata": {
    "papermill": {
     "duration": 0.012068,
     "end_time": "2023-01-18T06:34:05.305695",
     "exception": false,
     "start_time": "2023-01-18T06:34:05.293627",
     "status": "completed"
    },
    "tags": []
   },
   "source": [
    "# Flip Model\n",
    "\n",
    "> Takes more GPU but less time with more deterministic result than tta"
   ]
  },
  {
   "cell_type": "code",
   "execution_count": 20,
   "id": "3f76e3cc",
   "metadata": {
    "execution": {
     "iopub.execute_input": "2023-01-18T06:34:05.332351Z",
     "iopub.status.busy": "2023-01-18T06:34:05.331399Z",
     "iopub.status.idle": "2023-01-18T06:34:05.338123Z",
     "shell.execute_reply": "2023-01-18T06:34:05.336996Z"
    },
    "papermill": {
     "duration": 0.022935,
     "end_time": "2023-01-18T06:34:05.340834",
     "exception": false,
     "start_time": "2023-01-18T06:34:05.317899",
     "status": "completed"
    },
    "tags": []
   },
   "outputs": [],
   "source": [
    "def build_flip_model(model_path):\n",
    "    base = tf.keras.models.load_model(model_path, compile=False)\n",
    "    inp1 = base.input\n",
    "    inp2 = tf.keras.layers.Lambda(lambda x: tf.image.flip_left_right(x), name='flip')(inp1)\n",
    "    out1 = base(inp1)\n",
    "    out2 = base(inp2)\n",
    "    out = tf.keras.layers.Average(name='ensemble')([out1, out2])\n",
    "    model = tf.keras.models.Model(inp1, out)\n",
    "    return model"
   ]
  },
  {
   "cell_type": "markdown",
   "id": "745379ee",
   "metadata": {
    "papermill": {
     "duration": 0.012652,
     "end_time": "2023-01-18T06:34:05.366325",
     "exception": false,
     "start_time": "2023-01-18T06:34:05.353673",
     "status": "completed"
    },
    "tags": []
   },
   "source": [
    "# Inference"
   ]
  },
  {
   "cell_type": "code",
   "execution_count": 21,
   "id": "b00778e9",
   "metadata": {
    "execution": {
     "iopub.execute_input": "2023-01-18T06:34:05.393452Z",
     "iopub.status.busy": "2023-01-18T06:34:05.393068Z",
     "iopub.status.idle": "2023-01-18T06:34:36.075931Z",
     "shell.execute_reply": "2023-01-18T06:34:36.074735Z"
    },
    "papermill": {
     "duration": 30.699107,
     "end_time": "2023-01-18T06:34:36.078154",
     "exception": false,
     "start_time": "2023-01-18T06:34:05.379047",
     "status": "completed"
    },
    "tags": []
   },
   "outputs": [
    {
     "name": "stdout",
     "output_type": "stream",
     "text": [
      "===================================\n",
      "### Predicting\n",
      "===================================\n",
      "Model 00:\n",
      "Loading Model...\n",
      "Predicting...\n"
     ]
    },
    {
     "name": "stderr",
     "output_type": "stream",
     "text": [
      "Cleanup called...\n",
      "Cleanup called...\n",
      "Cleanup called...\n",
      "Cleanup called...\n"
     ]
    },
    {
     "name": "stdout",
     "output_type": "stream",
     "text": [
      "4/4 [==============================] - 9s 36ms/step\n"
     ]
    },
    {
     "name": "stderr",
     "output_type": "stream",
     "text": [
      "Cleanup called...\n",
      "Cleanup called...\n",
      "Cleanup called...\n"
     ]
    },
    {
     "name": "stdout",
     "output_type": "stream",
     "text": [
      "\n",
      "Loading Model...\n",
      "Predicting...\n",
      "3/4 [=====================>........] - ETA: 0s"
     ]
    },
    {
     "name": "stderr",
     "output_type": "stream",
     "text": [
      "Cleanup called...\n",
      "Cleanup called...\n",
      "Cleanup called...\n",
      "Cleanup called...\n",
      "Cleanup called...\n",
      "Cleanup called...\n",
      "Cleanup called...\n"
     ]
    },
    {
     "name": "stdout",
     "output_type": "stream",
     "text": [
      "4/4 [==============================] - 2s 43ms/step\n",
      "\n",
      "Loading Model...\n",
      "Predicting...\n",
      "4/4 [==============================] - 2s 41ms/step\n"
     ]
    },
    {
     "name": "stderr",
     "output_type": "stream",
     "text": [
      "Cleanup called...\n",
      "Cleanup called...\n",
      "Cleanup called...\n",
      "Cleanup called...\n",
      "Cleanup called...\n",
      "Cleanup called...\n",
      "Cleanup called...\n"
     ]
    },
    {
     "name": "stdout",
     "output_type": "stream",
     "text": [
      "\n"
     ]
    }
   ],
   "source": [
    "print('='*35)\n",
    "print('### Predicting')\n",
    "print('='*35)\n",
    "preds=[]\n",
    "for idx, (img_size, model_paths) in enumerate(MODEL_CONFIGS):\n",
    "    dim = np.prod(img_size)**0.5\n",
    "    test_paths = test_df.image_path.tolist()\n",
    "    if len(test_paths)<=4:\n",
    "        CFG.batch_size = 1\n",
    "    elif dim>=1024:\n",
    "        CFG.batch_size = REPLICAS * int(4 * 2)\n",
    "    elif dim>=768:\n",
    "        CFG.batch_size = REPLICAS * int(16 * 2)\n",
    "    elif dim>=640:\n",
    "        CFG.batch_size = REPLICAS * int(28 * 2)\n",
    "    else:\n",
    "        CFG.batch_size = REPLICAS * int(32 * 2)\n",
    "    dtest = build_dataset(\n",
    "        test_paths, \n",
    "        batch_size=CFG.batch_size, repeat=True, \n",
    "        shuffle=False, augment=CFG.tta>1, cache=False,\n",
    "        decode_fn=build_decoder(with_labels=False, target_size=img_size),\n",
    "        augment_fn=build_augmenter(with_labels=False, dim=img_size)\n",
    "    )\n",
    "    print(f'Model {idx:02d}:')\n",
    "    for model_path in model_paths:\n",
    "        with strategy.scope():\n",
    "            print('Loading Model...')\n",
    "            if CFG.flip_model:\n",
    "                model = build_flip_model(model_path)\n",
    "            else:\n",
    "                model = tf.keras.models.load_model(model_path, compile=False)\n",
    "        print('Predicting...');\n",
    "        pred = model.predict(dtest, steps = CFG.tta*len(test_paths)/CFG.batch_size, verbose=1)\n",
    "        pred = pred[:CFG.tta*len(test_paths),:]\n",
    "        pred = np.mean(pred.reshape(CFG.tta, len(test_paths), -1), axis=0)\n",
    "        preds.append(pred)\n",
    "        print()\n",
    "preds = np.mean(preds, axis=0)"
   ]
  },
  {
   "cell_type": "markdown",
   "id": "54302cb9",
   "metadata": {
    "papermill": {
     "duration": 0.013055,
     "end_time": "2023-01-18T06:34:36.105196",
     "exception": false,
     "start_time": "2023-01-18T06:34:36.092141",
     "status": "completed"
    },
    "tags": []
   },
   "source": [
    "# Submission"
   ]
  },
  {
   "cell_type": "code",
   "execution_count": 22,
   "id": "22600560",
   "metadata": {
    "execution": {
     "iopub.execute_input": "2023-01-18T06:34:36.132843Z",
     "iopub.status.busy": "2023-01-18T06:34:36.132163Z",
     "iopub.status.idle": "2023-01-18T06:34:36.169645Z",
     "shell.execute_reply": "2023-01-18T06:34:36.168441Z"
    },
    "papermill": {
     "duration": 0.053775,
     "end_time": "2023-01-18T06:34:36.171883",
     "exception": false,
     "start_time": "2023-01-18T06:34:36.118108",
     "status": "completed"
    },
    "tags": []
   },
   "outputs": [
    {
     "data": {
      "text/html": [
       "<div>\n",
       "<style scoped>\n",
       "    .dataframe tbody tr th:only-of-type {\n",
       "        vertical-align: middle;\n",
       "    }\n",
       "\n",
       "    .dataframe tbody tr th {\n",
       "        vertical-align: top;\n",
       "    }\n",
       "\n",
       "    .dataframe thead th {\n",
       "        text-align: right;\n",
       "    }\n",
       "</style>\n",
       "<table border=\"1\" class=\"dataframe\">\n",
       "  <thead>\n",
       "    <tr style=\"text-align: right;\">\n",
       "      <th></th>\n",
       "      <th>prediction_id</th>\n",
       "      <th>cancer</th>\n",
       "    </tr>\n",
       "  </thead>\n",
       "  <tbody>\n",
       "    <tr>\n",
       "      <th>0</th>\n",
       "      <td>10008_L</td>\n",
       "      <td>0.0</td>\n",
       "    </tr>\n",
       "    <tr>\n",
       "      <th>1</th>\n",
       "      <td>10008_R</td>\n",
       "      <td>0.0</td>\n",
       "    </tr>\n",
       "  </tbody>\n",
       "</table>\n",
       "</div>"
      ],
      "text/plain": [
       "  prediction_id  cancer\n",
       "0       10008_L     0.0\n",
       "1       10008_R     0.0"
      ]
     },
     "execution_count": 22,
     "metadata": {},
     "output_type": "execute_result"
    }
   ],
   "source": [
    "pred_df = pd.DataFrame({'prediction_id':test_df.prediction_id,\n",
    "                        'cancer':preds.reshape(-1)})\n",
    "sub_df = pd.read_csv(f'{BASE_PATH}/sample_submission.csv')\n",
    "del sub_df['cancer']\n",
    "sub_df = sub_df.merge(pred_df, on='prediction_id', how='left')\n",
    "sub_df = sub_df.groupby('prediction_id')['cancer'].max().reset_index()  # merge duplicate prediction_id\n",
    "sub_df['cancer'] = (sub_df.cancer>CFG.thr).astype('float32') # thresholding\n",
    "sub_df.to_csv('submission.csv',index=False)\n",
    "sub_df.head()"
   ]
  }
 ],
 "metadata": {
  "kernelspec": {
   "display_name": "Python 3",
   "language": "python",
   "name": "python3"
  },
  "language_info": {
   "codemirror_mode": {
    "name": "ipython",
    "version": 3
   },
   "file_extension": ".py",
   "mimetype": "text/x-python",
   "name": "python",
   "nbconvert_exporter": "python",
   "pygments_lexer": "ipython3",
   "version": "3.7.12"
  },
  "papermill": {
   "default_parameters": {},
   "duration": 183.361392,
   "end_time": "2023-01-18T06:34:39.537659",
   "environment_variables": {},
   "exception": null,
   "input_path": "__notebook__.ipynb",
   "output_path": "__notebook__.ipynb",
   "parameters": {},
   "start_time": "2023-01-18T06:31:36.176267",
   "version": "2.3.4"
  }
 },
 "nbformat": 4,
 "nbformat_minor": 5
}
