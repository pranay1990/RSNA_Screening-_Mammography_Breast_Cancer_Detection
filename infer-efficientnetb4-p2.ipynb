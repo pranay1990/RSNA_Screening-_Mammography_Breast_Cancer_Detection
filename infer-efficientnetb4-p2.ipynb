{
 "cells": [
  {
   "cell_type": "markdown",
   "id": "72243d87",
   "metadata": {
    "papermill": {
     "duration": 0.009941,
     "end_time": "2023-01-30T10:49:26.400037",
     "exception": false,
     "start_time": "2023-01-30T10:49:26.390096",
     "status": "completed"
    },
    "tags": []
   },
   "source": [
    "# [RSNA Screening Mammography Breast Cancer Detection](https://www.kaggle.com/c/petfinder-pawpularity-score)\n",
    "> Find breast cancers in screening mammograms\n",
    "\n",
    "![](https://storage.googleapis.com/kaggle-competitions/kaggle/39272/logos/header.png?t=2022-11-28-17-29-35)"
   ]
  },
  {
   "cell_type": "markdown",
   "id": "de679482",
   "metadata": {
    "papermill": {
     "duration": 0.008183,
     "end_time": "2023-01-30T10:49:26.416911",
     "exception": false,
     "start_time": "2023-01-30T10:49:26.408728",
     "status": "completed"
    },
    "tags": []
   },
   "source": [
    "# Idea:\n",
    "* In this notebook will do inference for `breast cancer` detection from Mammography images.\n",
    "* Dicom images are saved to `1024` dim with aspect ratio. Modify `resize_dim` and `aspect_ratio` in config file to change them.\n",
    "* Batch Size is chosen adaptly depending on the image_size, you can change it on the `inference` cell\n",
    "* You can play with notebook by simply changing `tta` and `thr` parameter in config."
   ]
  },
  {
   "cell_type": "markdown",
   "id": "639b4752",
   "metadata": {
    "papermill": {
     "duration": 0.007991,
     "end_time": "2023-01-30T10:49:26.433336",
     "exception": false,
     "start_time": "2023-01-30T10:49:26.425345",
     "status": "completed"
    },
    "tags": []
   },
   "source": [
    "# Notebooks\n",
    "* Only Image:\n",
    "    * ROI:\n",
    "        * train: [RSNA-BCD: EfficientNet [TF][TPU-1VM][Train]](https://www.kaggle.com/code/awsaf49/rsna-bcd-efficientnet-tf-tpu-1vm-train)\n",
    "        * infer: [RSNA-BCD: EfficientNet [TF][TPU-1VM][Infer]](https://www.kaggle.com/code/awsaf49/rsna-bcd-efficientnet-tf-tpu-1vm-infer)\n",
    "    * NoROI + KerasCV: \n",
    "        * train: [RSNA-BCD: NoROI KerasCV [TF][Train]](https://www.kaggle.com/awsaf49/rsna-bcd-noroi-kerascv-tf-train/)\n",
    "        * infer: [RSNA-BCD: NoROI KerasCV [TF][Infer]](https://www.kaggle.com/awsaf49/rsna-bcd-noroi-kerascv-tf-infer/)\n",
    "* Dataset:\n",
    "    * ROI:\n",
    "        * [RSNA-BCD: ROI 1024x PNG Dataset](https://www.kaggle.com/datasets/awsaf49/rsna-bcd-roi-1024x-png-dataset)\n",
    "    * NoROI:\n",
    "        * [RSNA-BCD: 512 PNG v2 PNG Dataset](https://www.kaggle.com/datasets/awsaf49/rsnabcd-512-png-v2-dataset)"
   ]
  },
  {
   "cell_type": "markdown",
   "id": "dd837202",
   "metadata": {
    "papermill": {
     "duration": 0.007966,
     "end_time": "2023-01-30T10:49:26.450863",
     "exception": false,
     "start_time": "2023-01-30T10:49:26.442897",
     "status": "completed"
    },
    "tags": []
   },
   "source": [
    "# Update:\n",
    "* `v9` - `09/12/2022`:\n",
    "    * train_notebook: `v10` | img_size: 1024x512 | thr=0.60 | folds=0,1\n",
    "* `v10` - `10/12/2022`:\n",
    "    * same as `v9` uses **3folds** + **flip-model**\n",
    "* `v15` - `11/12/2022`:\n",
    "    * v2-fix data used\n",
    "* `v16` - `11/12/2022`:\n",
    "    * low lr\n",
    "* `v17` - `13/12/2022`:\n",
    "    * high res - 2048 x 1024 , single fold"
   ]
  },
  {
   "cell_type": "markdown",
   "id": "40dcc985",
   "metadata": {
    "papermill": {
     "duration": 0.00808,
     "end_time": "2023-01-30T10:49:26.467091",
     "exception": false,
     "start_time": "2023-01-30T10:49:26.459011",
     "status": "completed"
    },
    "tags": []
   },
   "source": [
    "# Install Libraries"
   ]
  },
  {
   "cell_type": "code",
   "execution_count": 1,
   "id": "e0604db2",
   "metadata": {
    "_kg_hide-input": false,
    "_kg_hide-output": true,
    "execution": {
     "iopub.execute_input": "2023-01-30T10:49:26.486133Z",
     "iopub.status.busy": "2023-01-30T10:49:26.485276Z",
     "iopub.status.idle": "2023-01-30T10:51:27.363897Z",
     "shell.execute_reply": "2023-01-30T10:51:27.362681Z"
    },
    "papermill": {
     "duration": 120.891434,
     "end_time": "2023-01-30T10:51:27.366701",
     "exception": false,
     "start_time": "2023-01-30T10:49:26.475267",
     "status": "completed"
    },
    "tags": []
   },
   "outputs": [
    {
     "name": "stdout",
     "output_type": "stream",
     "text": [
      "\u001b[33mWARNING: Running pip as the 'root' user can result in broken permissions and conflicting behaviour with the system package manager. It is recommended to use a virtual environment instead: https://pip.pypa.io/warnings/venv\u001b[0m\u001b[33m\r\n",
      "\u001b[0m\u001b[33mWARNING: There was an error checking the latest version of pip.\u001b[0m\u001b[33m\r\n",
      "\u001b[0m\u001b[33mWARNING: Running pip as the 'root' user can result in broken permissions and conflicting behaviour with the system package manager. It is recommended to use a virtual environment instead: https://pip.pypa.io/warnings/venv\u001b[0m\u001b[33m\r\n",
      "\u001b[0m\u001b[33mWARNING: There was an error checking the latest version of pip.\u001b[0m\u001b[33m\r\n",
      "\u001b[0m\u001b[33mWARNING: Running pip as the 'root' user can result in broken permissions and conflicting behaviour with the system package manager. It is recommended to use a virtual environment instead: https://pip.pypa.io/warnings/venv\u001b[0m\u001b[33m\r\n",
      "\u001b[0m\u001b[33mWARNING: There was an error checking the latest version of pip.\u001b[0m\u001b[33m\r\n",
      "\u001b[0m\u001b[33mWARNING: Running pip as the 'root' user can result in broken permissions and conflicting behaviour with the system package manager. It is recommended to use a virtual environment instead: https://pip.pypa.io/warnings/venv\u001b[0m\u001b[33m\r\n",
      "\u001b[0m\u001b[33mWARNING: There was an error checking the latest version of pip.\u001b[0m\u001b[33m\r\n",
      "\u001b[0m"
     ]
    }
   ],
   "source": [
    "!pip install -q /kaggle/input/rsna-bcd-whl-ds/python_gdcm-3.0.20-cp37-cp37m-manylinux_2_17_x86_64.manylinux2014_x86_64.whl\n",
    "!pip install -q /kaggle/input/rsna-bcd-whl-ds/pylibjpeg-1.4.0-py3-none-any.whl\n",
    "!pip install -q /kaggle/input/rsna-bcd-whl-ds/dicomsdl-0.109.1-cp37-cp37m-manylinux_2_12_x86_64.manylinux2010_x86_64.whl\n",
    "!cp -r /kaggle/input/efficientnet-keras-dataset/efficientnet_kaggle /tmp/ && pip install -q /tmp/efficientnet_kaggle"
   ]
  },
  {
   "cell_type": "markdown",
   "id": "c5304c84",
   "metadata": {
    "papermill": {
     "duration": 0.009032,
     "end_time": "2023-01-30T10:51:27.385044",
     "exception": false,
     "start_time": "2023-01-30T10:51:27.376012",
     "status": "completed"
    },
    "tags": []
   },
   "source": [
    "# Import Libraries"
   ]
  },
  {
   "cell_type": "code",
   "execution_count": 2,
   "id": "b4d083b2",
   "metadata": {
    "execution": {
     "iopub.execute_input": "2023-01-30T10:51:27.405542Z",
     "iopub.status.busy": "2023-01-30T10:51:27.403932Z",
     "iopub.status.idle": "2023-01-30T10:51:33.072248Z",
     "shell.execute_reply": "2023-01-30T10:51:33.071160Z"
    },
    "papermill": {
     "duration": 5.681077,
     "end_time": "2023-01-30T10:51:33.074947",
     "exception": false,
     "start_time": "2023-01-30T10:51:27.393870",
     "status": "completed"
    },
    "tags": []
   },
   "outputs": [],
   "source": [
    "import os\n",
    "os.environ['TF_CPP_MIN_LOG_LEVEL'] = '3'  # to avoid too many logging messages\n",
    "import pandas as pd, numpy as np, random, shutil\n",
    "import tensorflow as tf, re, math\n",
    "import tensorflow.keras.backend as K\n",
    "import efficientnet.tfkeras as efn\n",
    "import sklearn\n",
    "import matplotlib.pyplot as plt\n",
    "import tensorflow_addons as tfa\n",
    "import yaml\n",
    "\n",
    "from IPython import display as ipd\n",
    "from glob import glob\n",
    "from tqdm import tqdm"
   ]
  },
  {
   "cell_type": "markdown",
   "id": "8abc458b",
   "metadata": {
    "papermill": {
     "duration": 0.009786,
     "end_time": "2023-01-30T10:51:33.094671",
     "exception": false,
     "start_time": "2023-01-30T10:51:33.084885",
     "status": "completed"
    },
    "tags": []
   },
   "source": [
    "# Version Check"
   ]
  },
  {
   "cell_type": "code",
   "execution_count": 3,
   "id": "d49ed5ef",
   "metadata": {
    "execution": {
     "iopub.execute_input": "2023-01-30T10:51:33.115427Z",
     "iopub.status.busy": "2023-01-30T10:51:33.114839Z",
     "iopub.status.idle": "2023-01-30T10:51:33.120942Z",
     "shell.execute_reply": "2023-01-30T10:51:33.119918Z"
    },
    "papermill": {
     "duration": 0.020532,
     "end_time": "2023-01-30T10:51:33.124884",
     "exception": false,
     "start_time": "2023-01-30T10:51:33.104352",
     "status": "completed"
    },
    "tags": []
   },
   "outputs": [
    {
     "name": "stdout",
     "output_type": "stream",
     "text": [
      "np: 1.21.6\n",
      "pd: 1.3.5\n",
      "sklearn: 1.0.2\n",
      "tf: 2.6.4\n",
      "tfa: 0.14.0\n"
     ]
    }
   ],
   "source": [
    "print('np:', np.__version__)\n",
    "print('pd:', pd.__version__)\n",
    "print('sklearn:', sklearn.__version__)\n",
    "print('tf:',tf.__version__)\n",
    "print('tfa:', tfa.__version__)"
   ]
  },
  {
   "cell_type": "markdown",
   "id": "aebf8885",
   "metadata": {
    "papermill": {
     "duration": 0.008975,
     "end_time": "2023-01-30T10:51:33.143459",
     "exception": false,
     "start_time": "2023-01-30T10:51:33.134484",
     "status": "completed"
    },
    "tags": []
   },
   "source": [
    "# Configuration"
   ]
  },
  {
   "cell_type": "code",
   "execution_count": 4,
   "id": "55b88189",
   "metadata": {
    "execution": {
     "iopub.execute_input": "2023-01-30T10:51:33.163438Z",
     "iopub.status.busy": "2023-01-30T10:51:33.163088Z",
     "iopub.status.idle": "2023-01-30T10:51:33.171022Z",
     "shell.execute_reply": "2023-01-30T10:51:33.170093Z"
    },
    "papermill": {
     "duration": 0.020209,
     "end_time": "2023-01-30T10:51:33.173020",
     "exception": false,
     "start_time": "2023-01-30T10:51:33.152811",
     "status": "completed"
    },
    "tags": []
   },
   "outputs": [],
   "source": [
    "class CFG:\n",
    "    debug         = False\n",
    "    \n",
    "    # use verbose=0 for silent, vebose=1 for interactive,\n",
    "    verbose      = 1 if debug else 0\n",
    "    \n",
    "    # device\n",
    "    device = \"GPU\" # or \"GPU\"\n",
    "\n",
    "    # seed for data-split, layer init, augs\n",
    "    seed = 42\n",
    "    \n",
    "    # which folds of ckpt to use\n",
    "    num_folds = 3\n",
    "\n",
    "    # dicom to png size\n",
    "    resize_dim = 2048\n",
    "    aspect_ratio = True\n",
    "    \n",
    "    # size of training image\n",
    "    img_size = [1024, 512]\n",
    "\n",
    "    # augmentation\n",
    "    augment   = True\n",
    "\n",
    "    # scale-shift-rotate-shear\n",
    "    transform = False\n",
    "    fill_mode = 'constant'\n",
    "    rot    = 2.0\n",
    "    shr    = 2.0\n",
    "    hzoom  = 50.0\n",
    "    wzoom  = 50.0\n",
    "    hshift = 10.0\n",
    "    wshift = 10.0\n",
    "\n",
    "    # flip\n",
    "    hflip = False\n",
    "    vflip = False\n",
    "\n",
    "    # clip\n",
    "    clip = False\n",
    "\n",
    "    # lr-scheduler\n",
    "    scheduler   = 'exp' # cosine\n",
    "\n",
    "    # dropout\n",
    "    drop_prob   = 0.0\n",
    "    drop_cnt    = 10\n",
    "    drop_size   = 0.08\n",
    "\n",
    "    # pixel-augment\n",
    "    pixel_aug = False\n",
    "    sat  = [0.7, 1.3]\n",
    "    cont = [0.8, 1.2]\n",
    "    bri  = 0.05\n",
    "    hue  = 0.05\n",
    "\n",
    "    # threshold\n",
    "    thr = 0.75\n",
    "    \n",
    "    # test-time augs\n",
    "    flip_model = False\n",
    "    tta = 1\n",
    "    \n",
    "    # target column\n",
    "    target_col  = ['cancer']"
   ]
  },
  {
   "cell_type": "markdown",
   "id": "18539754",
   "metadata": {
    "papermill": {
     "duration": 0.008943,
     "end_time": "2023-01-30T10:51:33.191266",
     "exception": false,
     "start_time": "2023-01-30T10:51:33.182323",
     "status": "completed"
    },
    "tags": []
   },
   "source": [
    "# Reproducibility"
   ]
  },
  {
   "cell_type": "code",
   "execution_count": 5,
   "id": "1d0fb23e",
   "metadata": {
    "execution": {
     "iopub.execute_input": "2023-01-30T10:51:33.211267Z",
     "iopub.status.busy": "2023-01-30T10:51:33.210841Z",
     "iopub.status.idle": "2023-01-30T10:51:33.217190Z",
     "shell.execute_reply": "2023-01-30T10:51:33.216254Z"
    },
    "papermill": {
     "duration": 0.018904,
     "end_time": "2023-01-30T10:51:33.219390",
     "exception": false,
     "start_time": "2023-01-30T10:51:33.200486",
     "status": "completed"
    },
    "tags": []
   },
   "outputs": [
    {
     "name": "stdout",
     "output_type": "stream",
     "text": [
      "seeding done!!!\n"
     ]
    }
   ],
   "source": [
    "def seeding(SEED):\n",
    "    np.random.seed(SEED)\n",
    "    random.seed(SEED)\n",
    "    os.environ['PYTHONHASHSEED'] = str(SEED)\n",
    "#     os.environ['TF_CUDNN_DETERMINISTIC'] = str(SEED)\n",
    "    tf.random.set_seed(SEED)\n",
    "    print('seeding done!!!')\n",
    "seeding(CFG.seed)"
   ]
  },
  {
   "cell_type": "markdown",
   "id": "2825cd1d",
   "metadata": {
    "papermill": {
     "duration": 0.009057,
     "end_time": "2023-01-30T10:51:33.237932",
     "exception": false,
     "start_time": "2023-01-30T10:51:33.228875",
     "status": "completed"
    },
    "tags": []
   },
   "source": [
    "# Device Configs\n",
    "This notebook is compatible for **remote-tpu**, **local-tpu**, **multi-gpu** and **single-gpu**. Simple change to `device=\"TPU\"` for **remote-tpu** and `device=\"TPU-1VM\"` for **local-tpu** and finally, `device=\"GPU\"` for single or multi-gpu."
   ]
  },
  {
   "cell_type": "code",
   "execution_count": 6,
   "id": "d302a0ab",
   "metadata": {
    "_kg_hide-input": true,
    "_kg_hide-output": true,
    "execution": {
     "iopub.execute_input": "2023-01-30T10:51:33.259444Z",
     "iopub.status.busy": "2023-01-30T10:51:33.257825Z",
     "iopub.status.idle": "2023-01-30T10:51:33.414476Z",
     "shell.execute_reply": "2023-01-30T10:51:33.413443Z"
    },
    "papermill": {
     "duration": 0.169419,
     "end_time": "2023-01-30T10:51:33.416592",
     "exception": false,
     "start_time": "2023-01-30T10:51:33.247173",
     "status": "completed"
    },
    "tags": []
   },
   "outputs": [
    {
     "name": "stdout",
     "output_type": "stream",
     "text": [
      "Using single GPU\n",
      "Num GPUs Available:  1\n",
      "REPLICAS: 1\n"
     ]
    }
   ],
   "source": [
    "if \"TPU\" in CFG.device:\n",
    "    tpu = 'local' if CFG.device=='TPU-1VM' else None\n",
    "    print(\"connecting to TPU...\")\n",
    "    try:\n",
    "        tpu = tf.distribute.cluster_resolver.TPUClusterResolver.connect(tpu=tpu)\n",
    "        strategy = tf.distribute.TPUStrategy(tpu)\n",
    "    except:\n",
    "        CFG.device = \"GPU\"\n",
    "        \n",
    "if CFG.device == \"GPU\"  or CFG.device==\"CPU\":\n",
    "    ngpu = len(tf.config.experimental.list_physical_devices('GPU'))\n",
    "    if ngpu>1:\n",
    "        print(\"Using multi GPU\")\n",
    "        strategy = tf.distribute.MirroredStrategy()\n",
    "    elif ngpu==1:\n",
    "        print(\"Using single GPU\")\n",
    "        strategy = tf.distribute.get_strategy()\n",
    "    else:\n",
    "        print(\"Using CPU\")\n",
    "        strategy = tf.distribute.get_strategy()\n",
    "        CFG.device = \"CPU\"\n",
    "\n",
    "if CFG.device == \"GPU\":\n",
    "    print(\"Num GPUs Available: \", ngpu)\n",
    "    \n",
    "\n",
    "AUTO     = tf.data.experimental.AUTOTUNE\n",
    "REPLICAS = strategy.num_replicas_in_sync\n",
    "print(f'REPLICAS: {REPLICAS}')"
   ]
  },
  {
   "cell_type": "markdown",
   "id": "2c3fc03c",
   "metadata": {
    "papermill": {
     "duration": 0.009185,
     "end_time": "2023-01-30T10:51:33.435544",
     "exception": false,
     "start_time": "2023-01-30T10:51:33.426359",
     "status": "completed"
    },
    "tags": []
   },
   "source": [
    "# Meta Data"
   ]
  },
  {
   "cell_type": "code",
   "execution_count": 7,
   "id": "37e0741b",
   "metadata": {
    "execution": {
     "iopub.execute_input": "2023-01-30T10:51:33.456103Z",
     "iopub.status.busy": "2023-01-30T10:51:33.455134Z",
     "iopub.status.idle": "2023-01-30T10:51:33.460453Z",
     "shell.execute_reply": "2023-01-30T10:51:33.459442Z"
    },
    "papermill": {
     "duration": 0.017731,
     "end_time": "2023-01-30T10:51:33.462599",
     "exception": false,
     "start_time": "2023-01-30T10:51:33.444868",
     "status": "completed"
    },
    "tags": []
   },
   "outputs": [],
   "source": [
    "BASE_PATH = '/kaggle/input/rsna-breast-cancer-detection'\n",
    "IMG_DIR = '/tmp/dataset/rsna-bcd'"
   ]
  },
  {
   "cell_type": "code",
   "execution_count": 8,
   "id": "28a8a6ca",
   "metadata": {
    "execution": {
     "iopub.execute_input": "2023-01-30T10:51:33.482515Z",
     "iopub.status.busy": "2023-01-30T10:51:33.482203Z",
     "iopub.status.idle": "2023-01-30T10:51:33.838701Z",
     "shell.execute_reply": "2023-01-30T10:51:33.837447Z"
    },
    "papermill": {
     "duration": 0.369922,
     "end_time": "2023-01-30T10:51:33.841910",
     "exception": false,
     "start_time": "2023-01-30T10:51:33.471988",
     "status": "completed"
    },
    "tags": []
   },
   "outputs": [
    {
     "name": "stdout",
     "output_type": "stream",
     "text": [
      "Train:\n"
     ]
    },
    {
     "name": "stderr",
     "output_type": "stream",
     "text": [
      "/opt/conda/lib/python3.7/site-packages/ipykernel_launcher.py:7: FutureWarning: The default value of regex will change from True to False in a future version.\n",
      "  import sys\n"
     ]
    },
    {
     "data": {
      "text/html": [
       "<div>\n",
       "<style scoped>\n",
       "    .dataframe tbody tr th:only-of-type {\n",
       "        vertical-align: middle;\n",
       "    }\n",
       "\n",
       "    .dataframe tbody tr th {\n",
       "        vertical-align: top;\n",
       "    }\n",
       "\n",
       "    .dataframe thead th {\n",
       "        text-align: right;\n",
       "    }\n",
       "</style>\n",
       "<table border=\"1\" class=\"dataframe\">\n",
       "  <thead>\n",
       "    <tr style=\"text-align: right;\">\n",
       "      <th></th>\n",
       "      <th>site_id</th>\n",
       "      <th>patient_id</th>\n",
       "      <th>image_id</th>\n",
       "      <th>laterality</th>\n",
       "      <th>view</th>\n",
       "      <th>age</th>\n",
       "      <th>cancer</th>\n",
       "      <th>biopsy</th>\n",
       "      <th>invasive</th>\n",
       "      <th>BIRADS</th>\n",
       "      <th>implant</th>\n",
       "      <th>density</th>\n",
       "      <th>machine_id</th>\n",
       "      <th>difficult_negative_case</th>\n",
       "      <th>dicom_path</th>\n",
       "      <th>image_path</th>\n",
       "    </tr>\n",
       "  </thead>\n",
       "  <tbody>\n",
       "    <tr>\n",
       "      <th>0</th>\n",
       "      <td>2</td>\n",
       "      <td>10006</td>\n",
       "      <td>462822612</td>\n",
       "      <td>L</td>\n",
       "      <td>CC</td>\n",
       "      <td>61.0</td>\n",
       "      <td>0</td>\n",
       "      <td>0</td>\n",
       "      <td>0</td>\n",
       "      <td>NaN</td>\n",
       "      <td>0</td>\n",
       "      <td>NaN</td>\n",
       "      <td>29</td>\n",
       "      <td>False</td>\n",
       "      <td>/kaggle/input/rsna-breast-cancer-detection/tra...</td>\n",
       "      <td>/tmp/dataset/rsna-bcd/train_images/10006/46282...</td>\n",
       "    </tr>\n",
       "    <tr>\n",
       "      <th>1</th>\n",
       "      <td>2</td>\n",
       "      <td>10006</td>\n",
       "      <td>1459541791</td>\n",
       "      <td>L</td>\n",
       "      <td>MLO</td>\n",
       "      <td>61.0</td>\n",
       "      <td>0</td>\n",
       "      <td>0</td>\n",
       "      <td>0</td>\n",
       "      <td>NaN</td>\n",
       "      <td>0</td>\n",
       "      <td>NaN</td>\n",
       "      <td>29</td>\n",
       "      <td>False</td>\n",
       "      <td>/kaggle/input/rsna-breast-cancer-detection/tra...</td>\n",
       "      <td>/tmp/dataset/rsna-bcd/train_images/10006/14595...</td>\n",
       "    </tr>\n",
       "  </tbody>\n",
       "</table>\n",
       "</div>"
      ],
      "text/plain": [
       "   site_id  patient_id    image_id laterality view   age  cancer  biopsy  \\\n",
       "0        2       10006   462822612          L   CC  61.0       0       0   \n",
       "1        2       10006  1459541791          L  MLO  61.0       0       0   \n",
       "\n",
       "   invasive  BIRADS  implant density  machine_id  difficult_negative_case  \\\n",
       "0         0     NaN        0     NaN          29                    False   \n",
       "1         0     NaN        0     NaN          29                    False   \n",
       "\n",
       "                                          dicom_path  \\\n",
       "0  /kaggle/input/rsna-breast-cancer-detection/tra...   \n",
       "1  /kaggle/input/rsna-breast-cancer-detection/tra...   \n",
       "\n",
       "                                          image_path  \n",
       "0  /tmp/dataset/rsna-bcd/train_images/10006/46282...  \n",
       "1  /tmp/dataset/rsna-bcd/train_images/10006/14595...  "
      ]
     },
     "metadata": {},
     "output_type": "display_data"
    },
    {
     "name": "stdout",
     "output_type": "stream",
     "text": [
      "\n",
      "Test:\n"
     ]
    },
    {
     "name": "stderr",
     "output_type": "stream",
     "text": [
      "/opt/conda/lib/python3.7/site-packages/ipykernel_launcher.py:17: FutureWarning: The default value of regex will change from True to False in a future version.\n",
      "  app.launch_new_instance()\n"
     ]
    },
    {
     "data": {
      "text/html": [
       "<div>\n",
       "<style scoped>\n",
       "    .dataframe tbody tr th:only-of-type {\n",
       "        vertical-align: middle;\n",
       "    }\n",
       "\n",
       "    .dataframe tbody tr th {\n",
       "        vertical-align: top;\n",
       "    }\n",
       "\n",
       "    .dataframe thead th {\n",
       "        text-align: right;\n",
       "    }\n",
       "</style>\n",
       "<table border=\"1\" class=\"dataframe\">\n",
       "  <thead>\n",
       "    <tr style=\"text-align: right;\">\n",
       "      <th></th>\n",
       "      <th>site_id</th>\n",
       "      <th>patient_id</th>\n",
       "      <th>image_id</th>\n",
       "      <th>laterality</th>\n",
       "      <th>view</th>\n",
       "      <th>age</th>\n",
       "      <th>implant</th>\n",
       "      <th>machine_id</th>\n",
       "      <th>prediction_id</th>\n",
       "      <th>dicom_path</th>\n",
       "      <th>image_path</th>\n",
       "    </tr>\n",
       "  </thead>\n",
       "  <tbody>\n",
       "    <tr>\n",
       "      <th>0</th>\n",
       "      <td>2</td>\n",
       "      <td>10008</td>\n",
       "      <td>736471439</td>\n",
       "      <td>L</td>\n",
       "      <td>MLO</td>\n",
       "      <td>81</td>\n",
       "      <td>0</td>\n",
       "      <td>21</td>\n",
       "      <td>10008_L</td>\n",
       "      <td>/kaggle/input/rsna-breast-cancer-detection/tes...</td>\n",
       "      <td>/tmp/dataset/rsna-bcd/test_images/10008/736471...</td>\n",
       "    </tr>\n",
       "    <tr>\n",
       "      <th>1</th>\n",
       "      <td>2</td>\n",
       "      <td>10008</td>\n",
       "      <td>1591370361</td>\n",
       "      <td>L</td>\n",
       "      <td>CC</td>\n",
       "      <td>81</td>\n",
       "      <td>0</td>\n",
       "      <td>21</td>\n",
       "      <td>10008_L</td>\n",
       "      <td>/kaggle/input/rsna-breast-cancer-detection/tes...</td>\n",
       "      <td>/tmp/dataset/rsna-bcd/test_images/10008/159137...</td>\n",
       "    </tr>\n",
       "  </tbody>\n",
       "</table>\n",
       "</div>"
      ],
      "text/plain": [
       "   site_id  patient_id    image_id laterality view  age  implant  machine_id  \\\n",
       "0        2       10008   736471439          L  MLO   81        0          21   \n",
       "1        2       10008  1591370361          L   CC   81        0          21   \n",
       "\n",
       "  prediction_id                                         dicom_path  \\\n",
       "0       10008_L  /kaggle/input/rsna-breast-cancer-detection/tes...   \n",
       "1       10008_L  /kaggle/input/rsna-breast-cancer-detection/tes...   \n",
       "\n",
       "                                          image_path  \n",
       "0  /tmp/dataset/rsna-bcd/test_images/10008/736471...  \n",
       "1  /tmp/dataset/rsna-bcd/test_images/10008/159137...  "
      ]
     },
     "metadata": {},
     "output_type": "display_data"
    }
   ],
   "source": [
    "# train\n",
    "df = pd.read_csv(f'{BASE_PATH}/train.csv')\n",
    "df['dicom_path'] = f'{BASE_PATH}/train_images'\\\n",
    "                    + '/' + df.patient_id.astype(str)\\\n",
    "                    + '/' + df.image_id.astype(str)\\\n",
    "                    + '.dcm'\n",
    "df['image_path'] = df.dicom_path.str.replace('.dcm','.png').str.replace(BASE_PATH, IMG_DIR)\n",
    "print('Train:')\n",
    "display(df.head(2))\n",
    "\n",
    "# test\n",
    "test_df = pd.read_csv(f'{BASE_PATH}/test.csv')\n",
    "test_df['dicom_path'] = f'{BASE_PATH}/test_images'\\\n",
    "                    + '/' + test_df.patient_id.astype(str)\\\n",
    "                    + '/' + test_df.image_id.astype(str)\\\n",
    "                    + '.dcm'\n",
    "test_df['image_path'] = test_df.dicom_path.str.replace('.dcm','.png').str.replace(BASE_PATH, IMG_DIR)\n",
    "print('\\nTest:')\n",
    "display(test_df.head(2))"
   ]
  },
  {
   "cell_type": "markdown",
   "id": "bba757d5",
   "metadata": {
    "papermill": {
     "duration": 0.010857,
     "end_time": "2023-01-30T10:51:33.863637",
     "exception": false,
     "start_time": "2023-01-30T10:51:33.852780",
     "status": "completed"
    },
    "tags": []
   },
   "source": [
    "# Check If Data Exist?"
   ]
  },
  {
   "cell_type": "code",
   "execution_count": 9,
   "id": "85becf4f",
   "metadata": {
    "execution": {
     "iopub.execute_input": "2023-01-30T10:51:33.885938Z",
     "iopub.status.busy": "2023-01-30T10:51:33.885597Z",
     "iopub.status.idle": "2023-01-30T10:51:33.899333Z",
     "shell.execute_reply": "2023-01-30T10:51:33.898428Z"
    },
    "papermill": {
     "duration": 0.027771,
     "end_time": "2023-01-30T10:51:33.901502",
     "exception": false,
     "start_time": "2023-01-30T10:51:33.873731",
     "status": "completed"
    },
    "tags": []
   },
   "outputs": [
    {
     "data": {
      "text/plain": [
       "(True, True)"
      ]
     },
     "execution_count": 9,
     "metadata": {},
     "output_type": "execute_result"
    }
   ],
   "source": [
    "tf.io.gfile.exists(df.dicom_path.iloc[0]), tf.io.gfile.exists(test_df.dicom_path.iloc[0])"
   ]
  },
  {
   "cell_type": "markdown",
   "id": "a81cb2cf",
   "metadata": {
    "papermill": {
     "duration": 0.010132,
     "end_time": "2023-01-30T10:51:33.922306",
     "exception": false,
     "start_time": "2023-01-30T10:51:33.912174",
     "status": "completed"
    },
    "tags": []
   },
   "source": [
    "## Train-Test Ditribution"
   ]
  },
  {
   "cell_type": "code",
   "execution_count": 10,
   "id": "f6c079c5",
   "metadata": {
    "execution": {
     "iopub.execute_input": "2023-01-30T10:51:33.944868Z",
     "iopub.status.busy": "2023-01-30T10:51:33.943806Z",
     "iopub.status.idle": "2023-01-30T10:51:33.950141Z",
     "shell.execute_reply": "2023-01-30T10:51:33.949053Z"
    },
    "papermill": {
     "duration": 0.020661,
     "end_time": "2023-01-30T10:51:33.952925",
     "exception": false,
     "start_time": "2023-01-30T10:51:33.932264",
     "status": "completed"
    },
    "tags": []
   },
   "outputs": [
    {
     "name": "stdout",
     "output_type": "stream",
     "text": [
      "train_files: 54706\n",
      "test_files: 4\n"
     ]
    }
   ],
   "source": [
    "print('train_files:',df.shape[0])\n",
    "print('test_files:',test_df.shape[0])"
   ]
  },
  {
   "cell_type": "markdown",
   "id": "969b5ef5",
   "metadata": {
    "papermill": {
     "duration": 0.010127,
     "end_time": "2023-01-30T10:51:33.973348",
     "exception": false,
     "start_time": "2023-01-30T10:51:33.963221",
     "status": "completed"
    },
    "tags": []
   },
   "source": [
    "# DICOM to PNG"
   ]
  },
  {
   "cell_type": "markdown",
   "id": "d1e6588a",
   "metadata": {
    "papermill": {
     "duration": 0.009749,
     "end_time": "2023-01-30T10:51:33.993227",
     "exception": false,
     "start_time": "2023-01-30T10:51:33.983478",
     "status": "completed"
    },
    "tags": []
   },
   "source": [
    "## Create Directory"
   ]
  },
  {
   "cell_type": "code",
   "execution_count": 11,
   "id": "5d0729e7",
   "metadata": {
    "_kg_hide-input": true,
    "execution": {
     "iopub.execute_input": "2023-01-30T10:51:34.016567Z",
     "iopub.status.busy": "2023-01-30T10:51:34.014899Z",
     "iopub.status.idle": "2023-01-30T10:51:34.978807Z",
     "shell.execute_reply": "2023-01-30T10:51:34.977607Z"
    },
    "papermill": {
     "duration": 0.977516,
     "end_time": "2023-01-30T10:51:34.981232",
     "exception": false,
     "start_time": "2023-01-30T10:51:34.003716",
     "status": "completed"
    },
    "tags": []
   },
   "outputs": [
    {
     "name": "stdout",
     "output_type": "stream",
     "text": [
      "rm: cannot remove '/tmp/Dataset/rsna-bcd': No such file or directory\r\n"
     ]
    }
   ],
   "source": [
    "!rm -r /tmp/Dataset/rsna-bcd\n",
    "os.makedirs('/tmp/dataset/rsna-bcd/train_images', exist_ok = True)\n",
    "os.makedirs('/tmp/dataset/rsna-bcd/test_images', exist_ok = True)"
   ]
  },
  {
   "cell_type": "markdown",
   "id": "18ba1e61",
   "metadata": {
    "papermill": {
     "duration": 0.010498,
     "end_time": "2023-01-30T10:51:35.002819",
     "exception": false,
     "start_time": "2023-01-30T10:51:34.992321",
     "status": "completed"
    },
    "tags": []
   },
   "source": [
    "## ROI Utils"
   ]
  },
  {
   "cell_type": "code",
   "execution_count": 12,
   "id": "be7b83d5",
   "metadata": {
    "_kg_hide-input": true,
    "execution": {
     "iopub.execute_input": "2023-01-30T10:51:35.026350Z",
     "iopub.status.busy": "2023-01-30T10:51:35.025181Z",
     "iopub.status.idle": "2023-01-30T10:51:35.162644Z",
     "shell.execute_reply": "2023-01-30T10:51:35.161497Z"
    },
    "papermill": {
     "duration": 0.151832,
     "end_time": "2023-01-30T10:51:35.165189",
     "exception": false,
     "start_time": "2023-01-30T10:51:35.013357",
     "status": "completed"
    },
    "tags": []
   },
   "outputs": [],
   "source": [
    "import cv2\n",
    "\n",
    "def img2roi(img):\n",
    "    # Binarize the image\n",
    "    bin_img = cv2.threshold(img, 20, 255, cv2.THRESH_BINARY)[1]\n",
    "\n",
    "    # Make contours around the binarized image, keep only the largest contour\n",
    "    contours, _ = cv2.findContours(bin_img, cv2.RETR_EXTERNAL, cv2.CHAIN_APPROX_NONE)\n",
    "    contour = max(contours, key=cv2.contourArea)\n",
    "\n",
    "    # Find ROI from largest contour\n",
    "    ys = contour.squeeze()[:, 0]\n",
    "    xs = contour.squeeze()[:, 1]\n",
    "    roi =  img[np.min(xs):np.max(xs), np.min(ys):np.max(ys)]\n",
    "    \n",
    "    return roi"
   ]
  },
  {
   "cell_type": "markdown",
   "id": "8d8bf336",
   "metadata": {
    "papermill": {
     "duration": 0.00993,
     "end_time": "2023-01-30T10:51:35.185657",
     "exception": false,
     "start_time": "2023-01-30T10:51:35.175727",
     "status": "completed"
    },
    "tags": []
   },
   "source": [
    "## Dicom Utils"
   ]
  },
  {
   "cell_type": "code",
   "execution_count": 13,
   "id": "71efd250",
   "metadata": {
    "_kg_hide-input": true,
    "execution": {
     "iopub.execute_input": "2023-01-30T10:51:35.207586Z",
     "iopub.status.busy": "2023-01-30T10:51:35.207158Z",
     "iopub.status.idle": "2023-01-30T10:51:35.227908Z",
     "shell.execute_reply": "2023-01-30T10:51:35.226938Z"
    },
    "papermill": {
     "duration": 0.03446,
     "end_time": "2023-01-30T10:51:35.230127",
     "exception": false,
     "start_time": "2023-01-30T10:51:35.195667",
     "status": "completed"
    },
    "tags": []
   },
   "outputs": [],
   "source": [
    "# import pydicom\n",
    "# from pydicom.pixel_data_handlers.util import apply_voi_lut\n",
    "\n",
    "\n",
    "import dicomsdl\n",
    "\n",
    "\n",
    "def load_image_dicomsdl(img_path):\n",
    "    dataset = dicomsdl.open(img_path)\n",
    "    img = dataset.pixelData()\n",
    "\n",
    "    try:\n",
    "        # Load only the variables we need\n",
    "        center = dataset[\"WindowCenter\"]\n",
    "        width = dataset[\"WindowWidth\"]\n",
    "        bits_stored = dataset[\"BitsStored\"]\n",
    "        voi_lut_function = dataset[\"VOILUTFunction\"]\n",
    "\n",
    "        # For sigmoid it's a list, otherwise a single value\n",
    "        if isinstance(center, list):\n",
    "            center = center[0]\n",
    "        if isinstance(width, list):\n",
    "            width = width[0]\n",
    "\n",
    "        # Set y_min, max & range\n",
    "        y_min = 0\n",
    "        y_max = float(2**bits_stored - 1)\n",
    "        y_range = y_max\n",
    "\n",
    "        # Function with default LINEAR (so for Nan, it will use linear)\n",
    "        if voi_lut_function == \"SIGMOID\":\n",
    "            img = y_range / (1 + np.exp(-4 * (img - center) / width)) + y_min\n",
    "        else:\n",
    "            # Checks width for < 1 (in our case not necessary, always >= 750)\n",
    "            center -= 0.5\n",
    "            width -= 1\n",
    "\n",
    "            below = img <= (center - width / 2)\n",
    "            above = img > (center + width / 2)\n",
    "            between = np.logical_and(~below, ~above)\n",
    "\n",
    "            img[below] = y_min\n",
    "            img[above] = y_max\n",
    "            if between.any():\n",
    "                img[between] = (\n",
    "                    ((img[between] - center) / width + 0.5) * y_range + y_min\n",
    "                )\n",
    "    except Exception as e:\n",
    "        print(\"here\")\n",
    "        #dataset = dicoml.open(img_path)\n",
    "        img = dataset.pixelData()\n",
    "\n",
    "\n",
    "    img = (img - img.min()) / (img.max() - img.min())\n",
    "\n",
    "    if dataset[\"PhotometricInterpretation\"] == \"MONOCHROME1\":\n",
    "        img = 1 - img\n",
    "\n",
    "    img = (img * 255).astype(np.uint8)\n",
    "\n",
    "    return img\n",
    "\n",
    "def resize_and_save(file_path):\n",
    "    img = load_image_dicomsdl(file_path)\n",
    "    h, w = img.shape[:2]  # orig hw\n",
    "    if CFG.aspect_ratio:\n",
    "        r = CFG.resize_dim / max(h, w)  # resize image to img_size\n",
    "        interp = cv2.INTER_LINEAR\n",
    "        if r != 1:  # always resize down, only resize up if training with augmentation\n",
    "            img = cv2.resize(img, (int(w * r), int(h * r)), interpolation=interp)\n",
    "    else:\n",
    "        img = cv2.resize(img, (CFG.resize_dim, CFG.resize_dim), cv2.INTER_LINEAR)\n",
    "    \n",
    "    #img = (img * 255).astype(np.uint8)\n",
    "    img = img2roi(img)\n",
    "    img = cv2.resize(img, CFG.img_size[::-1], cv2.INTER_LINEAR)\n",
    "    \n",
    "    sub_path = file_path.split(\"/\",4)[-1].split('.dcm')[0] + '.png'\n",
    "    infos = sub_path.split('/')\n",
    "    pid = infos[-2]\n",
    "    iid = infos[-1]; iid = iid.replace('.png','')\n",
    "    new_path = os.path.join(IMG_DIR, sub_path)\n",
    "    print(new_path)\n",
    "    os.makedirs(new_path.rsplit('/',1)[0], exist_ok=True)\n",
    "    cv2.imwrite(new_path, img)\n",
    "    return pid,iid,w,h"
   ]
  },
  {
   "cell_type": "markdown",
   "id": "630e608d",
   "metadata": {
    "papermill": {
     "duration": 0.010116,
     "end_time": "2023-01-30T10:51:35.250561",
     "exception": false,
     "start_time": "2023-01-30T10:51:35.240445",
     "status": "completed"
    },
    "tags": []
   },
   "source": [
    "## Conversion"
   ]
  },
  {
   "cell_type": "code",
   "execution_count": 14,
   "id": "634ae4b1",
   "metadata": {
    "execution": {
     "iopub.execute_input": "2023-01-30T10:51:35.273086Z",
     "iopub.status.busy": "2023-01-30T10:51:35.272167Z",
     "iopub.status.idle": "2023-01-30T10:51:38.198176Z",
     "shell.execute_reply": "2023-01-30T10:51:38.196808Z"
    },
    "papermill": {
     "duration": 2.939676,
     "end_time": "2023-01-30T10:51:38.200510",
     "exception": false,
     "start_time": "2023-01-30T10:51:35.260834",
     "status": "completed"
    },
    "tags": []
   },
   "outputs": [
    {
     "name": "stderr",
     "output_type": "stream",
     "text": [
      "  0%|          | 0/4 [00:00<?, ?it/s]"
     ]
    },
    {
     "name": "stdout",
     "output_type": "stream",
     "text": [
      "/tmp/dataset/rsna-bcd/test_images/10008/1591370361.png\n",
      "/tmp/dataset/rsna-bcd/test_images/10008/736471439.png\n"
     ]
    },
    {
     "name": "stderr",
     "output_type": "stream",
     "text": [
      "100%|██████████| 4/4 [00:02<00:00,  1.47it/s]"
     ]
    },
    {
     "name": "stdout",
     "output_type": "stream",
     "text": [
      "/tmp/dataset/rsna-bcd/test_images/10008/68070693.png\n",
      "/tmp/dataset/rsna-bcd/test_images/10008/361203119.png\n",
      "CPU times: user 2.5 s, sys: 144 ms, total: 2.64 s\n",
      "Wall time: 2.92 s\n"
     ]
    },
    {
     "name": "stderr",
     "output_type": "stream",
     "text": [
      "\n"
     ]
    }
   ],
   "source": [
    "%%time\n",
    "from joblib import Parallel, delayed\n",
    "file_paths = test_df.dicom_path.tolist()\n",
    "imgsize = Parallel(n_jobs=2,backend='threading')(delayed(resize_and_save)(file_path)\\\n",
    "                                                  for file_path in tqdm(file_paths, leave=True, position=0))"
   ]
  },
  {
   "cell_type": "code",
   "execution_count": 15,
   "id": "774353b9",
   "metadata": {
    "execution": {
     "iopub.execute_input": "2023-01-30T10:51:38.223910Z",
     "iopub.status.busy": "2023-01-30T10:51:38.223606Z",
     "iopub.status.idle": "2023-01-30T10:51:38.488699Z",
     "shell.execute_reply": "2023-01-30T10:51:38.487750Z"
    },
    "papermill": {
     "duration": 0.279159,
     "end_time": "2023-01-30T10:51:38.490812",
     "exception": false,
     "start_time": "2023-01-30T10:51:38.211653",
     "status": "completed"
    },
    "tags": []
   },
   "outputs": [
    {
     "data": {
      "text/plain": [
       "<matplotlib.image.AxesImage at 0x7f2381a1a490>"
      ]
     },
     "execution_count": 15,
     "metadata": {},
     "output_type": "execute_result"
    },
    {
     "data": {
      "image/png": "[encoded data removed]",
      "text/plain": [
       "<Figure size 432x288 with 1 Axes>"
      ]
     },
     "metadata": {
      "needs_background": "light"
     },
     "output_type": "display_data"
    }
   ],
   "source": [
    "plt.imshow(cv2.imread(test_df.image_path[0]))"
   ]
  },
  {
   "cell_type": "code",
   "execution_count": null,
   "id": "778015b0",
   "metadata": {
    "papermill": {
     "duration": 0.010382,
     "end_time": "2023-01-30T10:51:38.512636",
     "exception": false,
     "start_time": "2023-01-30T10:51:38.502254",
     "status": "completed"
    },
    "tags": []
   },
   "outputs": [],
   "source": []
  },
  {
   "cell_type": "markdown",
   "id": "d2558b65",
   "metadata": {
    "papermill": {
     "duration": 0.010346,
     "end_time": "2023-01-30T10:51:38.533640",
     "exception": false,
     "start_time": "2023-01-30T10:51:38.523294",
     "status": "completed"
    },
    "tags": []
   },
   "source": [
    "# Data Augmentation\n",
    "Used simple augmentations, some of them may hurt the model.\n",
    "* RandomFlip (Left-Right)\n",
    "* No Rotation\n",
    "* RandomBrightness\n",
    "* RndomContrast\n",
    "* Shear\n",
    "* Zoom\n",
    "* Coarsee Dropout/Cutout"
   ]
  },
  {
   "cell_type": "code",
   "execution_count": 16,
   "id": "9a567518",
   "metadata": {
    "_kg_hide-input": true,
    "execution": {
     "iopub.execute_input": "2023-01-30T10:51:38.556359Z",
     "iopub.status.busy": "2023-01-30T10:51:38.555999Z",
     "iopub.status.idle": "2023-01-30T10:51:38.579776Z",
     "shell.execute_reply": "2023-01-30T10:51:38.578820Z"
    },
    "papermill": {
     "duration": 0.037957,
     "end_time": "2023-01-30T10:51:38.582090",
     "exception": false,
     "start_time": "2023-01-30T10:51:38.544133",
     "status": "completed"
    },
    "tags": []
   },
   "outputs": [],
   "source": [
    "def get_mat(shear, height_zoom, width_zoom, height_shift, width_shift):\n",
    "    # returns 3x3 transformmatrix which transforms indicies\n",
    "        \n",
    "    # CONVERT DEGREES TO RADIANS\n",
    "    #rotation = math.pi * rotation / 180.\n",
    "    shear    = math.pi * shear    / 180.\n",
    "\n",
    "    def get_3x3_mat(lst):\n",
    "        return tf.reshape(tf.concat([lst],axis=0), [3,3])\n",
    "    \n",
    "    # ROTATION MATRIX\n",
    "#     c1   = tf.math.cos(rotation)\n",
    "#     s1   = tf.math.sin(rotation)\n",
    "    one  = tf.constant([1],dtype='float32')\n",
    "    zero = tf.constant([0],dtype='float32')\n",
    "    \n",
    "#     rotation_matrix = get_3x3_mat([c1,   s1,   zero, \n",
    "#                                    -s1,  c1,   zero, \n",
    "#                                    zero, zero, one])    \n",
    "    # SHEAR MATRIX\n",
    "    c2 = tf.math.cos(shear)\n",
    "    s2 = tf.math.sin(shear)    \n",
    "    \n",
    "    shear_matrix = get_3x3_mat([one,  s2,   zero, \n",
    "                               zero, c2,   zero, \n",
    "                                zero, zero, one])        \n",
    "    # ZOOM MATRIX\n",
    "    zoom_matrix = get_3x3_mat([one/height_zoom, zero,           zero, \n",
    "                               zero,            one/width_zoom, zero, \n",
    "                               zero,            zero,           one])    \n",
    "    # SHIFT MATRIX\n",
    "    shift_matrix = get_3x3_mat([one,  zero, height_shift, \n",
    "                                zero, one,  width_shift, \n",
    "                                zero, zero, one])\n",
    "    \n",
    "\n",
    "    return  K.dot(shear_matrix,K.dot(zoom_matrix, shift_matrix)) #K.dot(K.dot(rotation_matrix, shear_matrix), K.dot(zoom_matrix, shift_matrix))                  \n",
    "\n",
    "def transform(image, DIM=CFG.img_size):#[rot,shr,h_zoom,w_zoom,h_shift,w_shift]):\n",
    "    if DIM[0]>DIM[1]:\n",
    "        diff  = (DIM[0]-DIM[1])\n",
    "        pad   = [diff//2, diff//2 + diff%2]\n",
    "        image = tf.pad(image, [[0, 0], [pad[0], pad[1]],[0, 0]])\n",
    "        NEW_DIM = DIM[0]\n",
    "    elif DIM[0]<DIM[1]:\n",
    "        diff  = (DIM[1]-DIM[0])\n",
    "        pad   = [diff//2, diff//2 + diff%2]\n",
    "        image = tf.pad(image, [[pad[0], pad[1]], [0, 0],[0, 0]])\n",
    "        NEW_DIM = DIM[1]\n",
    "    \n",
    "    rot = CFG.rot * tf.random.normal([1], dtype='float32')\n",
    "    shr = CFG.shr * tf.random.normal([1], dtype='float32') \n",
    "    h_zoom = 1.0 + tf.random.normal([1], dtype='float32') / CFG.hzoom\n",
    "    w_zoom = 1.0 + tf.random.normal([1], dtype='float32') / CFG.wzoom\n",
    "    h_shift = CFG.hshift * tf.random.normal([1], dtype='float32') \n",
    "    w_shift = CFG.wshift * tf.random.normal([1], dtype='float32') \n",
    "    \n",
    "    transformation_matrix=tf.linalg.inv(get_mat(shr,h_zoom,w_zoom,h_shift,w_shift))\n",
    "    \n",
    "    flat_tensor=tfa.image.transform_ops.matrices_to_flat_transforms(transformation_matrix)\n",
    "    \n",
    "    image=tfa.image.transform(image,flat_tensor, fill_mode=CFG.fill_mode)\n",
    "    \n",
    "    rotation = math.pi * rot / 180.\n",
    "    \n",
    "    image=tfa.image.rotate(image,-rotation, fill_mode=CFG.fill_mode)\n",
    "    \n",
    "    if DIM[0]>DIM[1]:\n",
    "        image=tf.reshape(image, [NEW_DIM, NEW_DIM,3])\n",
    "        image = image[:, pad[0]:-pad[1],:]\n",
    "    elif DIM[1]>DIM[0]:\n",
    "        image=tf.reshape(image, [NEW_DIM, NEW_DIM,3])\n",
    "        image = image[pad[0]:-pad[1],:,:]\n",
    "    image = tf.reshape(image, [*DIM, 3])    \n",
    "    return image\n",
    "\n",
    "def dropout(image,DIM=CFG.img_size, PROBABILITY = 0.6, CT = 5, SZ = 0.1):\n",
    "    # input image - is one image of size [dim,dim,3] not a batch of [b,dim,dim,3]\n",
    "    # output - image with CT squares of side size SZ*DIM removed\n",
    "    \n",
    "    # DO DROPOUT WITH PROBABILITY DEFINED ABOVE\n",
    "    P = tf.cast( tf.random.uniform([],0,1)<PROBABILITY, tf.int32)\n",
    "    if (P==0)|(CT==0)|(SZ==0): \n",
    "        return image\n",
    "    \n",
    "    for k in range(CT):\n",
    "        # CHOOSE RANDOM LOCATION\n",
    "        x = tf.cast( tf.random.uniform([],0,DIM[1]),tf.int32)\n",
    "        y = tf.cast( tf.random.uniform([],0,DIM[0]),tf.int32)\n",
    "        # COMPUTE SQUARE \n",
    "        WIDTH = tf.cast( SZ*min(DIM),tf.int32) * P\n",
    "        ya = tf.math.maximum(0,y-WIDTH//2)\n",
    "        yb = tf.math.minimum(DIM[0],y+WIDTH//2)\n",
    "        xa = tf.math.maximum(0,x-WIDTH//2)\n",
    "        xb = tf.math.minimum(DIM[1],x+WIDTH//2)\n",
    "        # DROPOUT IMAGE\n",
    "        one = image[ya:yb,0:xa,:]\n",
    "        two = tf.zeros([yb-ya,xb-xa,3], dtype = image.dtype) \n",
    "        three = image[ya:yb,xb:DIM[1],:]\n",
    "        middle = tf.concat([one,two,three],axis=1)\n",
    "        image = tf.concat([image[0:ya,:,:],middle,image[yb:DIM[0],:,:]],axis=0)\n",
    "        image = tf.reshape(image,[*DIM,3])\n",
    "\n",
    "#     image = tf.reshape(image,[*DIM,3])\n",
    "    return image"
   ]
  },
  {
   "cell_type": "markdown",
   "id": "72860109",
   "metadata": {
    "papermill": {
     "duration": 0.010837,
     "end_time": "2023-01-30T10:51:38.603902",
     "exception": false,
     "start_time": "2023-01-30T10:51:38.593065",
     "status": "completed"
    },
    "tags": []
   },
   "source": [
    "## Data Pipeline\n",
    "* Reads the raw file and then decodes it to tf.Tensor\n",
    "* Resizes the image in desired size\n",
    "* Chages the datatype to **float32**\n",
    "* Caches the Data for boosting up the speed.\n",
    "* Uses Augmentations to reduce overfitting and make model more robust.\n",
    "* Finally, splits the data into batches.\n"
   ]
  },
  {
   "cell_type": "code",
   "execution_count": 17,
   "id": "5ab90d6f",
   "metadata": {
    "_kg_hide-input": true,
    "execution": {
     "iopub.execute_input": "2023-01-30T10:51:38.627795Z",
     "iopub.status.busy": "2023-01-30T10:51:38.627430Z",
     "iopub.status.idle": "2023-01-30T10:51:38.643607Z",
     "shell.execute_reply": "2023-01-30T10:51:38.642667Z"
    },
    "papermill": {
     "duration": 0.030955,
     "end_time": "2023-01-30T10:51:38.645927",
     "exception": false,
     "start_time": "2023-01-30T10:51:38.614972",
     "status": "completed"
    },
    "tags": []
   },
   "outputs": [],
   "source": [
    "def build_decoder(with_labels=True, target_size=CFG.img_size, ext='png'):\n",
    "    def decode(path):\n",
    "        file_bytes = tf.io.read_file(path)\n",
    "        if ext == 'png':\n",
    "            img = tf.image.decode_png(file_bytes, channels=3)\n",
    "        elif ext in ['jpg', 'jpeg']:\n",
    "            img = tf.image.decode_jpeg(file_bytes, channels=3)\n",
    "        else:\n",
    "            raise ValueError(\"Image extension not supported\")\n",
    "\n",
    "#         img = tf.image.resize(img, target_size)\n",
    "        img = tf.cast(img, tf.float32)/255.0\n",
    "        img = tf.reshape(img, [*target_size, 3])\n",
    "\n",
    "        return img\n",
    "    \n",
    "    def decode_with_labels(path, label):\n",
    "        return decode(path), tf.cast(label, tf.float32)\n",
    "    \n",
    "    return decode_with_labels if with_labels else decode\n",
    "\n",
    "\n",
    "def build_augmenter(with_labels=True, dim=CFG.img_size):\n",
    "    def augment(img, dim=dim):\n",
    "        img = transform(img,DIM=dim) if CFG.transform else img\n",
    "        img = tf.image.random_flip_left_right(img) if CFG.hflip else img\n",
    "        img = tf.image.random_flip_up_down(img) if CFG.vflip else img\n",
    "        if CFG.pixel_aug:\n",
    "            img = tf.image.random_hue(img, CFG.hue)\n",
    "            img = tf.image.random_saturation(img, CFG.sat[0], CFG.sat[1])\n",
    "            img = tf.image.random_contrast(img, CFG.cont[0], CFG.cont[1])\n",
    "            img = tf.image.random_brightness(img, CFG.bri)\n",
    "        img = dropout(img, DIM=dim, PROBABILITY = CFG.drop_prob, CT = CFG.drop_cnt, SZ = CFG.drop_size)\n",
    "        img = tf.clip_by_value(img, 0, 1)  if CFG.clip else img         \n",
    "        img = tf.reshape(img, [*dim, 3])\n",
    "        return img\n",
    "    \n",
    "    def augment_with_labels(img, label):    \n",
    "        return augment(img), label\n",
    "    \n",
    "    return augment_with_labels if with_labels else augment\n",
    "\n",
    "\n",
    "def build_dataset(paths, labels=None, batch_size=32, cache=True,\n",
    "                  decode_fn=None, augment_fn=None,\n",
    "                  augment=True, repeat=True, shuffle=1024, \n",
    "                  cache_dir=\"\", drop_remainder=False):\n",
    "    if cache_dir != \"\" and cache is True:\n",
    "        os.makedirs(cache_dir, exist_ok=True)\n",
    "    \n",
    "    if decode_fn is None:\n",
    "        decode_fn = build_decoder(labels is not None)\n",
    "    \n",
    "    if augment_fn is None:\n",
    "        augment_fn = build_augmenter(labels is not None)\n",
    "    \n",
    "    AUTO = tf.data.experimental.AUTOTUNE\n",
    "    slices = paths if labels is None else (paths, labels)\n",
    "    \n",
    "    ds = tf.data.Dataset.from_tensor_slices(slices)\n",
    "    ds = ds.map(decode_fn, num_parallel_calls=AUTO)\n",
    "    ds = ds.cache(cache_dir) if cache else ds\n",
    "    ds = ds.repeat() if repeat else ds\n",
    "    if shuffle: \n",
    "        ds = ds.shuffle(shuffle, seed=CFG.seed)\n",
    "        opt = tf.data.Options()\n",
    "        opt.experimental_deterministic = False\n",
    "        ds = ds.with_options(opt)\n",
    "    ds = ds.map(augment_fn, num_parallel_calls=AUTO) if augment else ds\n",
    "    ds = ds.batch(batch_size, drop_remainder=drop_remainder)\n",
    "    ds = ds.prefetch(AUTO)\n",
    "    return ds"
   ]
  },
  {
   "cell_type": "markdown",
   "id": "89e6815a",
   "metadata": {
    "papermill": {
     "duration": 0.010492,
     "end_time": "2023-01-30T10:51:38.667051",
     "exception": false,
     "start_time": "2023-01-30T10:51:38.656559",
     "status": "completed"
    },
    "tags": []
   },
   "source": [
    "## Visualization\n",
    "* Check if augmentation is working properly or not."
   ]
  },
  {
   "cell_type": "code",
   "execution_count": 18,
   "id": "578bdc98",
   "metadata": {
    "_kg_hide-input": true,
    "execution": {
     "iopub.execute_input": "2023-01-30T10:51:38.690912Z",
     "iopub.status.busy": "2023-01-30T10:51:38.689204Z",
     "iopub.status.idle": "2023-01-30T10:51:38.695774Z",
     "shell.execute_reply": "2023-01-30T10:51:38.694861Z"
    },
    "papermill": {
     "duration": 0.020218,
     "end_time": "2023-01-30T10:51:38.697776",
     "exception": false,
     "start_time": "2023-01-30T10:51:38.677558",
     "status": "completed"
    },
    "tags": []
   },
   "outputs": [],
   "source": [
    "def display_batch(batch, size=2):\n",
    "    imgs = batch\n",
    "    plt.figure(figsize=(size*2, 10))\n",
    "    for img_idx in range(size):\n",
    "        plt.subplot(1, size, img_idx+1)\n",
    "        plt.imshow(imgs[img_idx,:, :, :])\n",
    "        plt.xticks([])\n",
    "        plt.yticks([])\n",
    "    plt.tight_layout()\n",
    "    plt.show() "
   ]
  },
  {
   "cell_type": "code",
   "execution_count": 19,
   "id": "6f44a4c4",
   "metadata": {
    "_kg_hide-input": true,
    "execution": {
     "iopub.execute_input": "2023-01-30T10:51:38.721293Z",
     "iopub.status.busy": "2023-01-30T10:51:38.719720Z",
     "iopub.status.idle": "2023-01-30T10:51:43.601841Z",
     "shell.execute_reply": "2023-01-30T10:51:43.600830Z"
    },
    "papermill": {
     "duration": 4.897175,
     "end_time": "2023-01-30T10:51:43.605498",
     "exception": false,
     "start_time": "2023-01-30T10:51:38.708323",
     "status": "completed"
    },
    "tags": []
   },
   "outputs": [
    {
     "name": "stderr",
     "output_type": "stream",
     "text": [
      "Cleanup called...\n",
      "Cleanup called...\n",
      "Cleanup called...\n",
      "Cleanup called...\n",
      "Cleanup called...\n",
      "Cleanup called...\n",
      "Cleanup called...\n",
      "Cleanup called...\n",
      "Cleanup called...\n",
      "Cleanup called...\n",
      "Cleanup called...\n",
      "Cleanup called...\n",
      "Cleanup called...\n",
      "Cleanup called...\n",
      "Cleanup called...\n",
      "Cleanup called...\n",
      "Cleanup called...\n",
      "Cleanup called...\n",
      "Cleanup called...\n",
      "Cleanup called...\n",
      "Cleanup called...\n",
      "Cleanup called...\n",
      "Cleanup called...\n",
      "Cleanup called...\n",
      "Cleanup called...\n",
      "Cleanup called...\n",
      "Cleanup called...\n",
      "Cleanup called...\n",
      "Cleanup called...\n",
      "Cleanup called...\n",
      "Cleanup called...\n",
      "Cleanup called...\n",
      "Cleanup called...\n",
      "Cleanup called...\n",
      "Cleanup called...\n",
      "Cleanup called...\n",
      "Cleanup called...\n",
      "Cleanup called...\n",
      "Cleanup called...\n",
      "Cleanup called...\n",
      "Cleanup called...\n",
      "Cleanup called...\n",
      "Cleanup called...\n",
      "Cleanup called...\n",
      "Cleanup called...\n",
      "Cleanup called...\n",
      "Cleanup called...\n",
      "Cleanup called...\n"
     ]
    },
    {
     "data": {
      "image/png": "[encoded data removed]",
      "text/plain": [
       "<Figure size 720x720 with 5 Axes>"
      ]
     },
     "metadata": {},
     "output_type": "display_data"
    }
   ],
   "source": [
    "fold = 0\n",
    "fold_df = test_df.copy()\n",
    "paths  = fold_df.image_path.tolist()\n",
    "labels = None\n",
    "ds = build_dataset(paths, labels, cache=False, batch_size=32,\n",
    "                   repeat=True, shuffle=True, augment=True)\n",
    "ds = ds.unbatch().batch(20)\n",
    "batch = next(iter(ds))\n",
    "display_batch(batch, 5);"
   ]
  },
  {
   "cell_type": "markdown",
   "id": "d00aa989",
   "metadata": {
    "papermill": {
     "duration": 0.01369,
     "end_time": "2023-01-30T10:51:43.632977",
     "exception": false,
     "start_time": "2023-01-30T10:51:43.619287",
     "status": "completed"
    },
    "tags": []
   },
   "source": [
    "# Model Configs"
   ]
  },
  {
   "cell_type": "code",
   "execution_count": 20,
   "id": "4e654e8a",
   "metadata": {
    "execution": {
     "iopub.execute_input": "2023-01-30T10:51:43.659991Z",
     "iopub.status.busy": "2023-01-30T10:51:43.659663Z",
     "iopub.status.idle": "2023-01-30T10:51:43.672509Z",
     "shell.execute_reply": "2023-01-30T10:51:43.671630Z"
    },
    "papermill": {
     "duration": 0.028719,
     "end_time": "2023-01-30T10:51:43.674819",
     "exception": false,
     "start_time": "2023-01-30T10:51:43.646100",
     "status": "completed"
    },
    "tags": []
   },
   "outputs": [
    {
     "data": {
      "text/plain": [
       "[[[1024, 512],\n",
       "  ['/kaggle/input/ddsm-trained-model-kaggle/efficientnetb4_P2_kaggle_fold-0.h5',\n",
       "   '/kaggle/input/ddsm-trained-model-kaggle/efficientnetb4_P2_kaggle_fold-1.h5',\n",
       "   '/kaggle/input/ddsm-trained-model-kaggle/efficientnetb4_P2_kaggle_fold-2.h5']]]"
      ]
     },
     "metadata": {},
     "output_type": "display_data"
    }
   ],
   "source": [
    "CKPT_DIRS = [\n",
    "    ([1024, 512], '/kaggle/input/ddsm-trained-model-kaggle'),\n",
    "]\n",
    "\n",
    "MODEL_CONFIGS = []\n",
    "for img_size, ckpt_dir in  CKPT_DIRS:\n",
    "    paths = sorted(glob(os.path.join(ckpt_dir, '*h5')))[0:CFG.num_folds]\n",
    "    if len(paths)==0:\n",
    "        print('no model found for :',base_dir)\n",
    "    MODEL_CONFIGS.append([img_size, paths])\n",
    "display(MODEL_CONFIGS)"
   ]
  },
  {
   "cell_type": "markdown",
   "id": "9d19b6b8",
   "metadata": {
    "papermill": {
     "duration": 0.012397,
     "end_time": "2023-01-30T10:51:43.699746",
     "exception": false,
     "start_time": "2023-01-30T10:51:43.687349",
     "status": "completed"
    },
    "tags": []
   },
   "source": [
    "# Flip Model\n",
    "\n",
    "> Takes more GPU but less time with more deterministic result than tta"
   ]
  },
  {
   "cell_type": "code",
   "execution_count": 21,
   "id": "747643ce",
   "metadata": {
    "execution": {
     "iopub.execute_input": "2023-01-30T10:51:43.726391Z",
     "iopub.status.busy": "2023-01-30T10:51:43.726098Z",
     "iopub.status.idle": "2023-01-30T10:51:43.732016Z",
     "shell.execute_reply": "2023-01-30T10:51:43.730946Z"
    },
    "papermill": {
     "duration": 0.021802,
     "end_time": "2023-01-30T10:51:43.734299",
     "exception": false,
     "start_time": "2023-01-30T10:51:43.712497",
     "status": "completed"
    },
    "tags": []
   },
   "outputs": [],
   "source": [
    "def build_flip_model(model_path):\n",
    "    base = tf.keras.models.load_model(model_path, compile=False)\n",
    "    inp1 = base.input\n",
    "    inp2 = tf.keras.layers.Lambda(lambda x: tf.image.flip_left_right(x), name='flip')(inp1)\n",
    "    out1 = base(inp1)\n",
    "    out2 = base(inp2)\n",
    "    out = tf.keras.layers.Average(name='ensemble')([out1, out2])\n",
    "    model = tf.keras.models.Model(inp1, out)\n",
    "    return model"
   ]
  },
  {
   "cell_type": "markdown",
   "id": "e41643d8",
   "metadata": {
    "papermill": {
     "duration": 0.01231,
     "end_time": "2023-01-30T10:51:43.759317",
     "exception": false,
     "start_time": "2023-01-30T10:51:43.747007",
     "status": "completed"
    },
    "tags": []
   },
   "source": [
    "# Inference"
   ]
  },
  {
   "cell_type": "code",
   "execution_count": 22,
   "id": "26a2a05d",
   "metadata": {
    "execution": {
     "iopub.execute_input": "2023-01-30T10:51:43.786095Z",
     "iopub.status.busy": "2023-01-30T10:51:43.785826Z",
     "iopub.status.idle": "2023-01-30T10:52:12.747788Z",
     "shell.execute_reply": "2023-01-30T10:52:12.746552Z"
    },
    "papermill": {
     "duration": 28.978382,
     "end_time": "2023-01-30T10:52:12.750374",
     "exception": false,
     "start_time": "2023-01-30T10:51:43.771992",
     "status": "completed"
    },
    "tags": []
   },
   "outputs": [
    {
     "name": "stdout",
     "output_type": "stream",
     "text": [
      "===================================\n",
      "### Predicting\n",
      "===================================\n",
      "Model 00:\n",
      "Loading Model...\n",
      "Predicting...\n"
     ]
    },
    {
     "name": "stderr",
     "output_type": "stream",
     "text": [
      "Cleanup called...\n",
      "Cleanup called...\n",
      "Cleanup called...\n",
      "Cleanup called...\n"
     ]
    },
    {
     "name": "stdout",
     "output_type": "stream",
     "text": [
      "4/4 [==============================] - 8s 36ms/step\n"
     ]
    },
    {
     "name": "stderr",
     "output_type": "stream",
     "text": [
      "Cleanup called...\n",
      "Cleanup called...\n",
      "Cleanup called...\n"
     ]
    },
    {
     "name": "stdout",
     "output_type": "stream",
     "text": [
      "\n",
      "Loading Model...\n",
      "Predicting...\n",
      "4/4 [==============================] - 3s 43ms/step\n"
     ]
    },
    {
     "name": "stderr",
     "output_type": "stream",
     "text": [
      "Cleanup called...\n",
      "Cleanup called...\n",
      "Cleanup called...\n",
      "Cleanup called...\n",
      "Cleanup called...\n",
      "Cleanup called...\n",
      "Cleanup called...\n"
     ]
    },
    {
     "name": "stdout",
     "output_type": "stream",
     "text": [
      "\n",
      "Loading Model...\n",
      "Predicting...\n",
      "4/4 [==============================] - 2s 38ms/step\n"
     ]
    },
    {
     "name": "stderr",
     "output_type": "stream",
     "text": [
      "Cleanup called...\n",
      "Cleanup called...\n",
      "Cleanup called...\n",
      "Cleanup called...\n",
      "Cleanup called...\n",
      "Cleanup called...\n",
      "Cleanup called...\n"
     ]
    },
    {
     "name": "stdout",
     "output_type": "stream",
     "text": [
      "\n"
     ]
    }
   ],
   "source": [
    "print('='*35)\n",
    "print('### Predicting')\n",
    "print('='*35)\n",
    "preds=[]\n",
    "for idx, (img_size, model_paths) in enumerate(MODEL_CONFIGS):\n",
    "    dim = np.prod(img_size)**0.5\n",
    "    test_paths = test_df.image_path.tolist()\n",
    "    if len(test_paths)<=4:\n",
    "        CFG.batch_size = 1\n",
    "    elif dim>=1024:\n",
    "        CFG.batch_size = REPLICAS * int(4 * 2)\n",
    "    elif dim>=768:\n",
    "        CFG.batch_size = REPLICAS * int(16 * 2)\n",
    "    elif dim>=640:\n",
    "        CFG.batch_size = REPLICAS * int(28 * 2)\n",
    "    else:\n",
    "        CFG.batch_size = REPLICAS * int(32 * 2)\n",
    "    dtest = build_dataset(\n",
    "        test_paths, \n",
    "        batch_size=CFG.batch_size, repeat=True, \n",
    "        shuffle=False, augment=CFG.tta>1, cache=False,\n",
    "        decode_fn=build_decoder(with_labels=False, target_size=img_size),\n",
    "        augment_fn=build_augmenter(with_labels=False, dim=img_size)\n",
    "    )\n",
    "    print(f'Model {idx:02d}:')\n",
    "    for model_path in model_paths:\n",
    "        with strategy.scope():\n",
    "            print('Loading Model...')\n",
    "            if CFG.flip_model:\n",
    "                model = build_flip_model(model_path)\n",
    "            else:\n",
    "                model = tf.keras.models.load_model(model_path, compile=False)\n",
    "        print('Predicting...');\n",
    "        pred = model.predict(dtest, steps = CFG.tta*len(test_paths)/CFG.batch_size, verbose=1)\n",
    "        pred = pred[:CFG.tta*len(test_paths),:]\n",
    "        pred = np.mean(pred.reshape(CFG.tta, len(test_paths), -1), axis=0)\n",
    "        preds.append(pred)\n",
    "        print()\n",
    "preds = np.mean(preds, axis=0)"
   ]
  },
  {
   "cell_type": "code",
   "execution_count": 23,
   "id": "c52435c5",
   "metadata": {
    "execution": {
     "iopub.execute_input": "2023-01-30T10:52:12.780038Z",
     "iopub.status.busy": "2023-01-30T10:52:12.779725Z",
     "iopub.status.idle": "2023-01-30T10:52:12.787278Z",
     "shell.execute_reply": "2023-01-30T10:52:12.786355Z"
    },
    "papermill": {
     "duration": 0.024556,
     "end_time": "2023-01-30T10:52:12.789485",
     "exception": false,
     "start_time": "2023-01-30T10:52:12.764929",
     "status": "completed"
    },
    "tags": []
   },
   "outputs": [
    {
     "data": {
      "text/plain": [
       "array([[0.04166   ],\n",
       "       [0.06439951],\n",
       "       [0.03286858],\n",
       "       [0.08434639]], dtype=float32)"
      ]
     },
     "execution_count": 23,
     "metadata": {},
     "output_type": "execute_result"
    }
   ],
   "source": [
    "preds"
   ]
  },
  {
   "cell_type": "markdown",
   "id": "566c4dce",
   "metadata": {
    "papermill": {
     "duration": 0.013833,
     "end_time": "2023-01-30T10:52:12.816985",
     "exception": false,
     "start_time": "2023-01-30T10:52:12.803152",
     "status": "completed"
    },
    "tags": []
   },
   "source": [
    "# Submission"
   ]
  },
  {
   "cell_type": "code",
   "execution_count": 24,
   "id": "70bb387e",
   "metadata": {
    "execution": {
     "iopub.execute_input": "2023-01-30T10:52:12.847194Z",
     "iopub.status.busy": "2023-01-30T10:52:12.845575Z",
     "iopub.status.idle": "2023-01-30T10:52:12.882681Z",
     "shell.execute_reply": "2023-01-30T10:52:12.881799Z"
    },
    "papermill": {
     "duration": 0.05426,
     "end_time": "2023-01-30T10:52:12.884887",
     "exception": false,
     "start_time": "2023-01-30T10:52:12.830627",
     "status": "completed"
    },
    "tags": []
   },
   "outputs": [
    {
     "data": {
      "text/html": [
       "<div>\n",
       "<style scoped>\n",
       "    .dataframe tbody tr th:only-of-type {\n",
       "        vertical-align: middle;\n",
       "    }\n",
       "\n",
       "    .dataframe tbody tr th {\n",
       "        vertical-align: top;\n",
       "    }\n",
       "\n",
       "    .dataframe thead th {\n",
       "        text-align: right;\n",
       "    }\n",
       "</style>\n",
       "<table border=\"1\" class=\"dataframe\">\n",
       "  <thead>\n",
       "    <tr style=\"text-align: right;\">\n",
       "      <th></th>\n",
       "      <th>prediction_id</th>\n",
       "      <th>cancer</th>\n",
       "    </tr>\n",
       "  </thead>\n",
       "  <tbody>\n",
       "    <tr>\n",
       "      <th>0</th>\n",
       "      <td>10008_L</td>\n",
       "      <td>0.0</td>\n",
       "    </tr>\n",
       "    <tr>\n",
       "      <th>1</th>\n",
       "      <td>10008_R</td>\n",
       "      <td>0.0</td>\n",
       "    </tr>\n",
       "  </tbody>\n",
       "</table>\n",
       "</div>"
      ],
      "text/plain": [
       "  prediction_id  cancer\n",
       "0       10008_L     0.0\n",
       "1       10008_R     0.0"
      ]
     },
     "execution_count": 24,
     "metadata": {},
     "output_type": "execute_result"
    }
   ],
   "source": [
    "pred_df = pd.DataFrame({'prediction_id':test_df.prediction_id,\n",
    "                        'cancer':preds.reshape(-1)})\n",
    "sub_df = pd.read_csv(f'{BASE_PATH}/sample_submission.csv')\n",
    "del sub_df['cancer']\n",
    "sub_df = sub_df.merge(pred_df, on='prediction_id', how='left')\n",
    "sub_df = sub_df.groupby('prediction_id')['cancer'].max().reset_index()  # merge duplicate prediction_id\n",
    "sub_df['cancer'] = (sub_df.cancer>CFG.thr).astype('float32') # thresholding\n",
    "sub_df.to_csv('submission.csv',index=False)\n",
    "sub_df.head()"
   ]
  },
  {
   "cell_type": "code",
   "execution_count": null,
   "id": "79035728",
   "metadata": {
    "papermill": {
     "duration": 0.013569,
     "end_time": "2023-01-30T10:52:12.912574",
     "exception": false,
     "start_time": "2023-01-30T10:52:12.899005",
     "status": "completed"
    },
    "tags": []
   },
   "outputs": [],
   "source": []
  }
 ],
 "metadata": {
  "kernelspec": {
   "display_name": "Python 3",
   "language": "python",
   "name": "python3"
  },
  "language_info": {
   "codemirror_mode": {
    "name": "ipython",
    "version": 3
   },
   "file_extension": ".py",
   "mimetype": "text/x-python",
   "name": "python",
   "nbconvert_exporter": "python",
   "pygments_lexer": "ipython3",
   "version": "3.7.12"
  },
  "papermill": {
   "default_parameters": {},
   "duration": 177.477139,
   "end_time": "2023-01-30T10:52:16.412619",
   "environment_variables": {},
   "exception": null,
   "input_path": "__notebook__.ipynb",
   "output_path": "__notebook__.ipynb",
   "parameters": {},
   "start_time": "2023-01-30T10:49:18.935480",
   "version": "2.3.4"
  }
 },
 "nbformat": 4,
 "nbformat_minor": 5
}
